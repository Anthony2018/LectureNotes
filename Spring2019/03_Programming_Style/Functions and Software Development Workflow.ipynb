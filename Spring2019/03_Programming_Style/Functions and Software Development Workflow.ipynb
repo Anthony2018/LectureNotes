{
 "cells": [
  {
   "cell_type": "markdown",
   "metadata": {},
   "source": [
    "# Functions And Software Development Workflow\n",
    "Some key concepts\n",
    "- Function signature: its name, inputs, and outputs\n",
    "- Use notebooks for (a) exploratory development and (b) results presentation. **Don't** use notebooks to contain significant code.\n",
    "- To use a function inside a notebook, you must ``import`` its containint module."
   ]
  },
  {
   "cell_type": "markdown",
   "metadata": {},
   "source": [
    "## Iterative development of a function\n",
    "Construct a function that tests if a number is prime."
   ]
  },
  {
   "cell_type": "code",
   "execution_count": null,
   "metadata": {},
   "outputs": [],
   "source": [
    "5 / 3"
   ]
  },
  {
   "cell_type": "code",
   "execution_count": null,
   "metadata": {},
   "outputs": [],
   "source": [
    "5 % 3"
   ]
  },
  {
   "cell_type": "code",
   "execution_count": null,
   "metadata": {},
   "outputs": [],
   "source": [
    "import numpy as np\n",
    "value = 4\n",
    "is_prime = True\n",
    "upper = int(np.ceil(np.sqrt(value)))\n",
    "for divisor in range(2, upper+1):\n",
    "    if value % divisor == 0:\n",
    "        is_prime = False\n",
    "        break\n",
    "print(is_prime)"
   ]
  },
  {
   "cell_type": "code",
   "execution_count": null,
   "metadata": {},
   "outputs": [],
   "source": [
    "value = 4\n",
    "def isPrime(value):\n",
    "    is_prime = True\n",
    "    upper = int(np.ceil(np.sqrt(value)))\n",
    "    if value == 2:  # THIS IS TERRIBLE\n",
    "        return is_prime\n",
    "    for divisor in range(2, upper+1):\n",
    "        if value % divisor == 0:\n",
    "            is_prime = False\n",
    "            break\n",
    "    return is_prime"
   ]
  },
  {
   "cell_type": "code",
   "execution_count": null,
   "metadata": {},
   "outputs": [],
   "source": [
    "for val in range(2, 20):\n",
    "    print(\"%d: %d\" % (val, isPrime(val)))"
   ]
  },
  {
   "cell_type": "markdown",
   "metadata": {},
   "source": [
    "## Put the function in a python module"
   ]
  },
  {
   "cell_type": "code",
   "execution_count": 2,
   "metadata": {},
   "outputs": [
    {
     "data": {
      "text/plain": [
       "False"
      ]
     },
     "execution_count": 2,
     "metadata": {},
     "output_type": "execute_result"
    }
   ],
   "source": [
    "import is_prime\n",
    "is_prime.isPrime(4)"
   ]
  },
  {
   "cell_type": "code",
   "execution_count": 4,
   "metadata": {},
   "outputs": [
    {
     "name": "stdout",
     "output_type": "stream",
     "text": [
      "2: 1\n",
      "3: 1\n",
      "4: 0\n",
      "5: 1\n",
      "6: 0\n",
      "7: 1\n",
      "8: 0\n",
      "9: 0\n",
      "10: 0\n",
      "11: 1\n",
      "12: 0\n",
      "13: 1\n",
      "14: 0\n",
      "15: 0\n",
      "16: 0\n",
      "17: 1\n",
      "18: 0\n",
      "19: 1\n"
     ]
    }
   ],
   "source": [
    "for val in range(2, 20):\n",
    "    print(\"%d: %d\" % (val, is_prime.isPrime(val)))"
   ]
  },
  {
   "cell_type": "markdown",
   "metadata": {},
   "source": [
    "## Use the function in a function\n",
    "Write a function that lists the prime numbers less than a threshold."
   ]
  },
  {
   "cell_type": "markdown",
   "metadata": {},
   "source": [
    "**Exercise**: Put this new function into a different python module and call it from the notebook."
   ]
  }
 ],
 "metadata": {
  "kernelspec": {
   "display_name": "Python 3",
   "language": "python",
   "name": "python3"
  },
  "language_info": {
   "codemirror_mode": {
    "name": "ipython",
    "version": 3
   },
   "file_extension": ".py",
   "mimetype": "text/x-python",
   "name": "python",
   "nbconvert_exporter": "python",
   "pygments_lexer": "ipython3",
   "version": "3.6.4"
  }
 },
 "nbformat": 4,
 "nbformat_minor": 2
}
