{
 "cells": [
  {
   "cell_type": "markdown",
   "metadata": {},
   "source": [
    "# Software Engineering for Data Scientists\n",
    "\n",
    "## *Manipulating Data with Python*"
   ]
  },
  {
   "cell_type": "markdown",
   "metadata": {},
   "source": [
    "## Today's Objectives\n",
    "\n",
    "#### 0. Cloning LectureNotes\n",
    "\n",
    "#### 1. Opening & Navigating the Jupyter Notebook\n",
    "\n",
    "#### 2. Data type basics\n",
    "\n",
    "#### 3. Loading data with ``pandas``\n",
    "\n",
    "#### 4. Cleaning and Manipulating data with ``pandas``\n",
    "\n",
    "#### 5. Visualizing data with ``pandas`` & ``matplotlib``"
   ]
  },
  {
   "cell_type": "markdown",
   "metadata": {},
   "source": [
    "## 0. Cloning Lecture Notes\n",
    "\n",
    "The course materials are maintained on github. The next lecture will discuss github in detail. Today, you'll get minimal instructions to get access to today's lecture materials.\n",
    "\n",
    "1. Open a terminal session\n",
    "1. Type 'git clone https://github.com/UWSEDS/LectureNotes.git'\n",
    "1. Wait until the download is complete\n",
    "1. cd LectureNotes\n",
    "1. cd 02_Procedural_Python"
   ]
  },
  {
   "cell_type": "markdown",
   "metadata": {},
   "source": [
    "## 1. Opening and Navigating the IPython Notebook\n",
    "\n",
    "We will start today with the interactive environment that we will be using often through the course: the [Jupyter Notebook](http://jupyter.org).\n",
    "\n",
    "We will walk through the following steps together:\n",
    "\n",
    "1. Download [miniconda](https://conda.io/miniconda.html) (be sure to get Version 3.6) and install it on your system (hopefully you have done this before coming to class)\n",
    "   ```\n",
    "   ```\n",
    "\n",
    "2. Use the ``conda`` command-line tool to update your package listing and install the IPython notebook:\n",
    "\n",
    "   Update ``conda``'s listing of packages for your system:\n",
    "   ```\n",
    "   $ conda update conda\n",
    "   ```\n",
    "   \n",
    "   Install IPython notebook and all its requirements\n",
    "   ```\n",
    "   $ conda install jupyter notebook\n",
    "   ```\n",
    "   \n",
    "3. Navigate to the directory containing the course material. For example:\n",
    "\n",
    "   ```\n",
    "   $ cd LectureNotes/02_Procedural_Python\n",
    "   ```\n",
    "   \n",
    "   You should see a number of files in the directory, including these:\n",
    "   \n",
    "   ```\n",
    "   $ ls\n",
    "   \n",
    "   ```\n",
    "\n",
    "4. Type ``jupyter notebook`` in the terminal to start the notebook\n",
    "\n",
    "   ```\n",
    "   $ jupyter notebook\n",
    "   ```\n",
    "   \n",
    "   If everything has worked correctly, it should automatically launch your default browser\n",
    "   ```\n",
    "   ```\n",
    "   \n",
    "5. Click on ``Lecture-Python-And-Data.ipynb`` to open the notebook containing the content for this lecture.\n",
    "\n",
    "With that, you're set up to use the Jupyter notebook!"
   ]
  },
  {
   "cell_type": "markdown",
   "metadata": {},
   "source": [
    "## 2. Data Types Basics\n",
    "\n",
    "### 2.1 Data type theory\n",
    "- Components with the same capabilities are of the same *type*. \n",
    "  - For example, the numbers 2 and 200 are both integers.\n",
    "- A type is defined recursively. Some examples.\n",
    "  - A list is a collection of objects that can be indexed by position.\n",
    "  - A list of integers contains an integer at each position.\n",
    "- A type has a set of supported operations. For example:\n",
    "  - Integers can be added\n",
    "  - Strings can be concatented\n",
    "  - A table can find the name of its columns\n",
    "    - What type is returned from the operation?\n",
    "- In python, members (components and operations) are indicated by a '.'\n",
    "  - If `a` is a list, the `a.append(1)` adds `1` to the list."
   ]
  },
  {
   "cell_type": "markdown",
   "metadata": {},
   "source": [
    "### 2.2 Primitive types\n",
    "\n",
    "The primitive types are integers, floats, strings, booleans."
   ]
  },
  {
   "cell_type": "markdown",
   "metadata": {},
   "source": [
    "#### 2.2.1 Integers"
   ]
  },
  {
   "cell_type": "code",
   "execution_count": 71,
   "metadata": {},
   "outputs": [
    {
     "data": {
      "text/plain": [
       "2"
      ]
     },
     "execution_count": 71,
     "metadata": {},
     "output_type": "execute_result"
    }
   ],
   "source": [
    "# Integer arithematic\n",
    "1 + 1"
   ]
  },
  {
   "cell_type": "code",
   "execution_count": 72,
   "metadata": {},
   "outputs": [
    {
     "name": "stdout",
     "output_type": "stream",
     "text": [
      "1 1.5\n"
     ]
    }
   ],
   "source": [
    "# Integer division version floating point division\n",
    "print (6 // 4, 6/ 4)"
   ]
  },
  {
   "cell_type": "markdown",
   "metadata": {},
   "source": [
    "#### 2.2.2 Floats"
   ]
  },
  {
   "cell_type": "code",
   "execution_count": 73,
   "metadata": {},
   "outputs": [
    {
     "name": "stdout",
     "output_type": "stream",
     "text": [
      "18.0 -2.4492935982947064e-16\n"
     ]
    }
   ],
   "source": [
    "# Have the full set of \"calculator functions\" but need the numpy package\n",
    "import numpy as np\n",
    "print (6.0 * 3, np.sin(2*np.pi))"
   ]
  },
  {
   "cell_type": "code",
   "execution_count": 74,
   "metadata": {},
   "outputs": [
    {
     "data": {
      "text/plain": [
       "nan"
      ]
     },
     "execution_count": 74,
     "metadata": {},
     "output_type": "execute_result"
    }
   ],
   "source": [
    "# Floats can have a null value called nan, not a number\n",
    "a = np.nan\n",
    "3*a"
   ]
  },
  {
   "cell_type": "markdown",
   "metadata": {},
   "source": [
    "#### 2.2.3 Strings"
   ]
  },
  {
   "cell_type": "code",
   "execution_count": 75,
   "metadata": {},
   "outputs": [],
   "source": [
    "# Can concatenate, substring, find, count, ..."
   ]
  },
  {
   "cell_type": "code",
   "execution_count": 76,
   "metadata": {},
   "outputs": [
    {
     "name": "stdout",
     "output_type": "stream",
     "text": [
      "Concatenation:  The lazybrown fox\n",
      "First three letters: The\n",
      "Index of 'z': 6\n"
     ]
    }
   ],
   "source": [
    "a = \"The lazy\"\n",
    "b = \"brown fox\"\n",
    "print (\"Concatenation: \", a + b)\n",
    "print (\"First three letters: \" + a[0:3])\n",
    "print (\"Index of 'z': \" + str(a.find('z')))"
   ]
  },
  {
   "cell_type": "markdown",
   "metadata": {},
   "source": [
    "### 2.3 Tuples\n",
    "A tuple is an ordered sequence of objects. Tuples cannot be changed; they are immuteable."
   ]
  },
  {
   "cell_type": "code",
   "execution_count": 77,
   "metadata": {},
   "outputs": [
    {
     "data": {
      "text/plain": [
       "(1, 'ab', (1, 2))"
      ]
     },
     "execution_count": 77,
     "metadata": {},
     "output_type": "execute_result"
    }
   ],
   "source": [
    "a_tuple = (1, 'ab', (1,2))\n",
    "a_tuple"
   ]
  },
  {
   "cell_type": "code",
   "execution_count": 78,
   "metadata": {},
   "outputs": [
    {
     "data": {
      "text/plain": [
       "(1, 2)"
      ]
     },
     "execution_count": 78,
     "metadata": {},
     "output_type": "execute_result"
    }
   ],
   "source": [
    "a_tuple[2]"
   ]
  },
  {
   "cell_type": "markdown",
   "metadata": {},
   "source": [
    "### 2.4 Lists\n",
    "A list is an ordered sequence of objects that can be changed."
   ]
  },
  {
   "cell_type": "code",
   "execution_count": 79,
   "metadata": {},
   "outputs": [],
   "source": [
    "a_list = [1, 'a', [1,2]]"
   ]
  },
  {
   "cell_type": "code",
   "execution_count": 80,
   "metadata": {},
   "outputs": [
    {
     "data": {
      "text/plain": [
       "1"
      ]
     },
     "execution_count": 80,
     "metadata": {},
     "output_type": "execute_result"
    }
   ],
   "source": [
    "a_list[0]"
   ]
  },
  {
   "cell_type": "code",
   "execution_count": 81,
   "metadata": {},
   "outputs": [
    {
     "data": {
      "text/plain": [
       "[1, 'a', [1, 2], 2]"
      ]
     },
     "execution_count": 81,
     "metadata": {},
     "output_type": "execute_result"
    }
   ],
   "source": [
    "a_list.append(2)\n",
    "a_list"
   ]
  },
  {
   "cell_type": "code",
   "execution_count": 82,
   "metadata": {},
   "outputs": [
    {
     "data": {
      "text/plain": [
       "[1, 'a', [1, 2], 2]"
      ]
     },
     "execution_count": 82,
     "metadata": {},
     "output_type": "execute_result"
    }
   ],
   "source": [
    "a_list"
   ]
  },
  {
   "cell_type": "code",
   "execution_count": 83,
   "metadata": {},
   "outputs": [
    {
     "data": {
      "text/plain": [
       "['__add__',\n",
       " '__class__',\n",
       " '__contains__',\n",
       " '__delattr__',\n",
       " '__delitem__',\n",
       " '__dir__',\n",
       " '__doc__',\n",
       " '__eq__',\n",
       " '__format__',\n",
       " '__ge__',\n",
       " '__getattribute__',\n",
       " '__getitem__',\n",
       " '__gt__',\n",
       " '__hash__',\n",
       " '__iadd__',\n",
       " '__imul__',\n",
       " '__init__',\n",
       " '__init_subclass__',\n",
       " '__iter__',\n",
       " '__le__',\n",
       " '__len__',\n",
       " '__lt__',\n",
       " '__mul__',\n",
       " '__ne__',\n",
       " '__new__',\n",
       " '__reduce__',\n",
       " '__reduce_ex__',\n",
       " '__repr__',\n",
       " '__reversed__',\n",
       " '__rmul__',\n",
       " '__setattr__',\n",
       " '__setitem__',\n",
       " '__sizeof__',\n",
       " '__str__',\n",
       " '__subclasshook__',\n",
       " 'append',\n",
       " 'clear',\n",
       " 'copy',\n",
       " 'count',\n",
       " 'extend',\n",
       " 'index',\n",
       " 'insert',\n",
       " 'pop',\n",
       " 'remove',\n",
       " 'reverse',\n",
       " 'sort']"
      ]
     },
     "execution_count": 83,
     "metadata": {},
     "output_type": "execute_result"
    }
   ],
   "source": [
    "dir(a_list)"
   ]
  },
  {
   "cell_type": "code",
   "execution_count": 84,
   "metadata": {},
   "outputs": [
    {
     "name": "stdout",
     "output_type": "stream",
     "text": [
      "Help on list object:\n",
      "\n",
      "class list(object)\n",
      " |  list() -> new empty list\n",
      " |  list(iterable) -> new list initialized from iterable's items\n",
      " |  \n",
      " |  Methods defined here:\n",
      " |  \n",
      " |  __add__(self, value, /)\n",
      " |      Return self+value.\n",
      " |  \n",
      " |  __contains__(self, key, /)\n",
      " |      Return key in self.\n",
      " |  \n",
      " |  __delitem__(self, key, /)\n",
      " |      Delete self[key].\n",
      " |  \n",
      " |  __eq__(self, value, /)\n",
      " |      Return self==value.\n",
      " |  \n",
      " |  __ge__(self, value, /)\n",
      " |      Return self>=value.\n",
      " |  \n",
      " |  __getattribute__(self, name, /)\n",
      " |      Return getattr(self, name).\n",
      " |  \n",
      " |  __getitem__(...)\n",
      " |      x.__getitem__(y) <==> x[y]\n",
      " |  \n",
      " |  __gt__(self, value, /)\n",
      " |      Return self>value.\n",
      " |  \n",
      " |  __iadd__(self, value, /)\n",
      " |      Implement self+=value.\n",
      " |  \n",
      " |  __imul__(self, value, /)\n",
      " |      Implement self*=value.\n",
      " |  \n",
      " |  __init__(self, /, *args, **kwargs)\n",
      " |      Initialize self.  See help(type(self)) for accurate signature.\n",
      " |  \n",
      " |  __iter__(self, /)\n",
      " |      Implement iter(self).\n",
      " |  \n",
      " |  __le__(self, value, /)\n",
      " |      Return self<=value.\n",
      " |  \n",
      " |  __len__(self, /)\n",
      " |      Return len(self).\n",
      " |  \n",
      " |  __lt__(self, value, /)\n",
      " |      Return self<value.\n",
      " |  \n",
      " |  __mul__(self, value, /)\n",
      " |      Return self*value.n\n",
      " |  \n",
      " |  __ne__(self, value, /)\n",
      " |      Return self!=value.\n",
      " |  \n",
      " |  __new__(*args, **kwargs) from builtins.type\n",
      " |      Create and return a new object.  See help(type) for accurate signature.\n",
      " |  \n",
      " |  __repr__(self, /)\n",
      " |      Return repr(self).\n",
      " |  \n",
      " |  __reversed__(...)\n",
      " |      L.__reversed__() -- return a reverse iterator over the list\n",
      " |  \n",
      " |  __rmul__(self, value, /)\n",
      " |      Return self*value.\n",
      " |  \n",
      " |  __setitem__(self, key, value, /)\n",
      " |      Set self[key] to value.\n",
      " |  \n",
      " |  __sizeof__(...)\n",
      " |      L.__sizeof__() -- size of L in memory, in bytes\n",
      " |  \n",
      " |  append(...)\n",
      " |      L.append(object) -> None -- append object to end\n",
      " |  \n",
      " |  clear(...)\n",
      " |      L.clear() -> None -- remove all items from L\n",
      " |  \n",
      " |  copy(...)\n",
      " |      L.copy() -> list -- a shallow copy of L\n",
      " |  \n",
      " |  count(...)\n",
      " |      L.count(value) -> integer -- return number of occurrences of value\n",
      " |  \n",
      " |  extend(...)\n",
      " |      L.extend(iterable) -> None -- extend list by appending elements from the iterable\n",
      " |  \n",
      " |  index(...)\n",
      " |      L.index(value, [start, [stop]]) -> integer -- return first index of value.\n",
      " |      Raises ValueError if the value is not present.\n",
      " |  \n",
      " |  insert(...)\n",
      " |      L.insert(index, object) -- insert object before index\n",
      " |  \n",
      " |  pop(...)\n",
      " |      L.pop([index]) -> item -- remove and return item at index (default last).\n",
      " |      Raises IndexError if list is empty or index is out of range.\n",
      " |  \n",
      " |  remove(...)\n",
      " |      L.remove(value) -> None -- remove first occurrence of value.\n",
      " |      Raises ValueError if the value is not present.\n",
      " |  \n",
      " |  reverse(...)\n",
      " |      L.reverse() -- reverse *IN PLACE*\n",
      " |  \n",
      " |  sort(...)\n",
      " |      L.sort(key=None, reverse=False) -> None -- stable sort *IN PLACE*\n",
      " |  \n",
      " |  ----------------------------------------------------------------------\n",
      " |  Data and other attributes defined here:\n",
      " |  \n",
      " |  __hash__ = None\n",
      "\n"
     ]
    }
   ],
   "source": [
    "help (a_list)"
   ]
  },
  {
   "cell_type": "code",
   "execution_count": 85,
   "metadata": {},
   "outputs": [
    {
     "data": {
      "text/plain": [
       "1"
      ]
     },
     "execution_count": 85,
     "metadata": {},
     "output_type": "execute_result"
    }
   ],
   "source": [
    "a_list.count(1)"
   ]
  },
  {
   "cell_type": "markdown",
   "metadata": {
    "collapsed": true
   },
   "source": [
    "### 2.5 Dictionaries\n",
    "A dictionary is a kind of associates a *key* with a *value*. A value can be any object, even another dictionary."
   ]
  },
  {
   "cell_type": "code",
   "execution_count": 86,
   "metadata": {},
   "outputs": [
    {
     "name": "stdout",
     "output_type": "stream",
     "text": [
      "{'Dave': 'Cake', 'Joe': ['Cake', 'Pie']}\n"
     ]
    }
   ],
   "source": [
    "dessert_dict = {}  # Empty dictionary\n",
    "dessert_dict['Dave'] = \"Cake\"\n",
    "dessert_dict[\"Joe\"] = [\"Cake\", \"Pie\"]\n",
    "print (dessert_dict)"
   ]
  },
  {
   "cell_type": "code",
   "execution_count": 87,
   "metadata": {},
   "outputs": [
    {
     "data": {
      "text/plain": [
       "'Cake'"
      ]
     },
     "execution_count": 87,
     "metadata": {},
     "output_type": "execute_result"
    }
   ],
   "source": [
    "dessert_dict[\"Dave\"]"
   ]
  },
  {
   "cell_type": "code",
   "execution_count": 88,
   "metadata": {},
   "outputs": [
    {
     "data": {
      "text/plain": [
       "{'Bernease': {}, 'Dave': 'Cake', 'Joe': ['Cake', 'Pie']}"
      ]
     },
     "execution_count": 88,
     "metadata": {},
     "output_type": "execute_result"
    }
   ],
   "source": [
    "# This produces an error\n",
    "dessert_dict[\"Bernease\"] = {}\n",
    "dessert_dict"
   ]
  },
  {
   "cell_type": "code",
   "execution_count": 89,
   "metadata": {},
   "outputs": [],
   "source": [
    "dessert_dict[\"Bernease\"] = {\"Favorite\": [\"sorbet\", \"cobbler\"], \"Dislike\": \"Brownies\"}"
   ]
  },
  {
   "cell_type": "markdown",
   "metadata": {},
   "source": [
    "### 2.7 A Shakespearean Detour: \"What's in a Name?\"\n"
   ]
  },
  {
   "cell_type": "markdown",
   "metadata": {},
   "source": [
    "#### Deep vs. Shallow Copies\n",
    "A deep copy can be manipulated separately. A shallow copy is a pointer to the same data as the original."
   ]
  },
  {
   "cell_type": "code",
   "execution_count": 90,
   "metadata": {},
   "outputs": [
    {
     "data": {
      "text/plain": [
       "2"
      ]
     },
     "execution_count": 90,
     "metadata": {},
     "output_type": "execute_result"
    }
   ],
   "source": [
    "# A first name shell game\n",
    "first_int = 1\n",
    "second_int = first_int\n",
    "second_int += 1\n",
    "second_int"
   ]
  },
  {
   "cell_type": "code",
   "execution_count": 91,
   "metadata": {},
   "outputs": [
    {
     "data": {
      "text/plain": [
       "1"
      ]
     },
     "execution_count": 91,
     "metadata": {},
     "output_type": "execute_result"
    }
   ],
   "source": [
    "# What is first_int?\n",
    "first_int"
   ]
  },
  {
   "cell_type": "code",
   "execution_count": 92,
   "metadata": {},
   "outputs": [
    {
     "data": {
      "text/plain": [
       "['a', 'aa', 'aaa', 'bb']"
      ]
     },
     "execution_count": 92,
     "metadata": {},
     "output_type": "execute_result"
    }
   ],
   "source": [
    "# A second name shell game\n",
    "a_list = ['a', 'aa', 'aaa']\n",
    "b_list = a_list\n",
    "b_list.append('bb')\n",
    "b_list"
   ]
  },
  {
   "cell_type": "code",
   "execution_count": 93,
   "metadata": {},
   "outputs": [
    {
     "data": {
      "text/plain": [
       "['a', 'aa', 'aaa', 'bb']"
      ]
     },
     "execution_count": 93,
     "metadata": {},
     "output_type": "execute_result"
    }
   ],
   "source": [
    "# What is a_list?\n",
    "a_list"
   ]
  },
  {
   "cell_type": "code",
   "execution_count": 94,
   "metadata": {},
   "outputs": [
    {
     "name": "stdout",
     "output_type": "stream",
     "text": [
      "b_list = ['a', 'aa', 'aaa', 'bb']\n",
      "a_list = ['a', 'aa', 'aaa']\n"
     ]
    }
   ],
   "source": [
    "# Create a deep copy\n",
    "import copy\n",
    "# A second name shell game\n",
    "a_list = ['a', 'aa', 'aaa']\n",
    "b_list = copy.deepcopy(a_list)\n",
    "b_list.append('bb')\n",
    "print(\"b_list = %s\" % str(b_list))\n",
    "print(\"a_list = %s\" % str(a_list))"
   ]
  },
  {
   "cell_type": "markdown",
   "metadata": {},
   "source": [
    "**Key insight**: Deep vs. Shallow Copies\n",
    "* A deep copy can be manipulated separately from the original.\n",
    "* A shallow copy cannot.\n",
    "* Assigning a python *immutable* creates a deep copy. Non-immutables are shallow copies."
   ]
  },
  {
   "cell_type": "markdown",
   "metadata": {},
   "source": [
    "#### Name Resolution\n",
    "The most common errors that you'll see in your python codes are:\n",
    "* ``NameError``\n",
    "* ``AttributeError``\n",
    "A common error when using the ``bash`` shell is ``command not found``.\n",
    "\n",
    "*Name resolution*: Associating a name with code or data."
   ]
  },
  {
   "cell_type": "markdown",
   "metadata": {},
   "source": [
    "Resolving a name in the bash shell is done by searching the directories in the ``PATH`` environment variable. The first executable with the name is run."
   ]
  },
  {
   "cell_type": "code",
   "execution_count": 95,
   "metadata": {},
   "outputs": [],
   "source": [
    "# Example 1 of name resolution in python\n",
    "var = 10\n",
    "def func(val):\n",
    "    var = val + 1\n",
    "    return val"
   ]
  },
  {
   "cell_type": "code",
   "execution_count": 96,
   "metadata": {},
   "outputs": [
    {
     "name": "stdout",
     "output_type": "stream",
     "text": [
      "func(2) = 2\n",
      "var = 10\n"
     ]
    }
   ],
   "source": [
    "# What is returned?\n",
    "print(\"func(2) = %d\" % func(2))\n",
    "# What is var?\n",
    "print(\"var = %d\" % var)"
   ]
  },
  {
   "cell_type": "code",
   "execution_count": 97,
   "metadata": {},
   "outputs": [],
   "source": [
    "# Example 2 of name resolution in python\n",
    "var = 10\n",
    "def func(val):\n",
    "    return val + var"
   ]
  },
  {
   "cell_type": "code",
   "execution_count": 98,
   "metadata": {},
   "outputs": [
    {
     "name": "stdout",
     "output_type": "stream",
     "text": [
      "func(2) = 12\n",
      "var = 10\n"
     ]
    }
   ],
   "source": [
    "# What is returned?\n",
    "print(\"func(2) = %d\" % func(2))\n",
    "# What is var?\n",
    "print(\"var = %d\" % var)"
   ]
  },
  {
   "cell_type": "markdown",
   "metadata": {},
   "source": [
    "**Insights on ``python`` name resolution**\n",
    "* Names are assigned within a context.\n",
    "* Context changes with the function and module.\n",
    "  * Assigning a name in a function creates a new name.\n",
    "  * Referencing an unassigned name in function uses an existing name."
   ]
  },
  {
   "cell_type": "markdown",
   "metadata": {},
   "source": [
    "### 2.7 Object Essentials\n",
    "Objects are a \"packaging\" of data and code. Almost all python entities are objects."
   ]
  },
  {
   "cell_type": "code",
   "execution_count": 99,
   "metadata": {},
   "outputs": [
    {
     "data": {
      "text/plain": [
       "{'a': [1, 2], 'b': [3, 4, 5]}"
      ]
     },
     "execution_count": 99,
     "metadata": {},
     "output_type": "execute_result"
    }
   ],
   "source": [
    "# A list and a dict are objects.\n",
    "# dict has been implemented so that you see its values when you type\n",
    "# the instance name.\n",
    "# This is done with many python objects, like list.\n",
    "a_dict = {'a': [1, 2], 'b': [3, 4, 5]}\n",
    "a_dict"
   ]
  },
  {
   "cell_type": "code",
   "execution_count": 100,
   "metadata": {},
   "outputs": [
    {
     "data": {
      "text/plain": [
       "dict_keys(['a', 'b'])"
      ]
     },
     "execution_count": 100,
     "metadata": {},
     "output_type": "execute_result"
    }
   ],
   "source": [
    "# You access the data and methods (codes) associated with an object by\n",
    "# using the \".\" operator. These are referred to collectively\n",
    "# as attributes. Methods are followed by parentheses;\n",
    "# values (properties) are not.\n",
    "a_dict.keys()"
   ]
  },
  {
   "cell_type": "code",
   "execution_count": 101,
   "metadata": {},
   "outputs": [
    {
     "data": {
      "text/plain": [
       "['__class__',\n",
       " '__contains__',\n",
       " '__delattr__',\n",
       " '__delitem__',\n",
       " '__dir__',\n",
       " '__doc__',\n",
       " '__eq__',\n",
       " '__format__',\n",
       " '__ge__',\n",
       " '__getattribute__',\n",
       " '__getitem__',\n",
       " '__gt__',\n",
       " '__hash__',\n",
       " '__init__',\n",
       " '__init_subclass__',\n",
       " '__iter__',\n",
       " '__le__',\n",
       " '__len__',\n",
       " '__lt__',\n",
       " '__ne__',\n",
       " '__new__',\n",
       " '__reduce__',\n",
       " '__reduce_ex__',\n",
       " '__repr__',\n",
       " '__setattr__',\n",
       " '__setitem__',\n",
       " '__sizeof__',\n",
       " '__str__',\n",
       " '__subclasshook__',\n",
       " 'clear',\n",
       " 'copy',\n",
       " 'fromkeys',\n",
       " 'get',\n",
       " 'items',\n",
       " 'keys',\n",
       " 'pop',\n",
       " 'popitem',\n",
       " 'setdefault',\n",
       " 'update',\n",
       " 'values']"
      ]
     },
     "execution_count": 101,
     "metadata": {},
     "output_type": "execute_result"
    }
   ],
   "source": [
    "# You can discover the attributes of an object using \"dir\"\n",
    "dir(a_dict)"
   ]
  },
  {
   "cell_type": "markdown",
   "metadata": {},
   "source": [
    "### 2.8 Summary\n",
    "<hr>\n",
    "\n",
    "| type | description |\n",
    "|------|------------|\n",
    "| primitive | int, float, string, bool |\n",
    "| tuple | An immutable collection of ordered objects |\n",
    "| list | A mutable collection of ordered objects |\n",
    "| dictionary | A mutable collection of named objects |\n",
    "| object | A packaging of codes and data |\n"
   ]
  },
  {
   "cell_type": "markdown",
   "metadata": {},
   "source": [
    "## 3. Python's Data Science Ecosystem\n",
    "\n",
    "With this simple Python computation experience under our belt, we can now move to doing some more interesting analysis."
   ]
  },
  {
   "cell_type": "markdown",
   "metadata": {},
   "source": [
    "### Python's Data Science Ecosystem\n",
    "\n",
    "In addition to Python's built-in modules like the ``math`` module we explored above, there are also many often-used third-party modules that are core tools for doing data science with Python.\n",
    "Some of the most important ones are:\n",
    "\n",
    "#### [``numpy``](http://numpy.org/): Numerical Python\n",
    "\n",
    "Numpy is short for \"Numerical Python\", and contains tools for efficient manipulation of arrays of data.\n",
    "If you have used other computational tools like IDL or MatLab, Numpy should feel very familiar.\n",
    "\n",
    "#### [``scipy``](http://scipy.org/): Scientific Python\n",
    "\n",
    "Scipy is short for \"Scientific Python\", and contains a wide range of functionality for accomplishing common scientific tasks, such as optimization/minimization, numerical integration, interpolation, and much more.\n",
    "We will not look closely at Scipy today, but we will use its functionality later in the course.\n",
    "\n",
    "#### [``pandas``](http://pandas.pydata.org/): Labeled Data Manipulation in Python\n",
    "\n",
    "Pandas is short for \"Panel Data\", and contains tools for doing more advanced manipulation of labeled data in Python, in particular with a columnar data structure called a *Data Frame*.\n",
    "If you've used the [R](http://rstats.org) statistical language (and in particular the so-called \"Hadley Stack\"), much of the functionality in Pandas should feel very familiar.\n",
    "\n",
    "#### [``matplotlib``](http://matplotlib.org): Visualization in Python\n",
    "\n",
    "Matplotlib started out as a Matlab plotting clone in Python, and has grown from there in the 15 years since its creation. It is the most popular data visualization tool currently in the Python data world (though other recent packages are starting to encroach on its monopoly)."
   ]
  },
  {
   "cell_type": "markdown",
   "metadata": {},
   "source": [
    "### Installing Pandas & friends\n",
    "\n",
    "Because the above packages are not included in Python itself, you need to install them separately. While it is possible to install these from source (compiling the C and/or Fortran code that does the heavy lifting under the hood) it is much easier to use a package manager like ``conda``. All it takes is to run\n",
    "\n",
    "```\n",
    "$ conda install numpy scipy pandas matplotlib\n",
    "```\n",
    "\n",
    "and (so long as your conda setup is working) the packages will be downloaded and installed on your system."
   ]
  },
  {
   "cell_type": "markdown",
   "metadata": {},
   "source": [
    "## 4. Introduction to DataFrames"
   ]
  },
  {
   "cell_type": "markdown",
   "metadata": {},
   "source": [
    "What are the elements of a table?"
   ]
  },
  {
   "cell_type": "code",
   "execution_count": 102,
   "metadata": {},
   "outputs": [],
   "source": [
    "# Pandas DataFrames as table elements\n",
    "import pandas as pd"
   ]
  },
  {
   "cell_type": "markdown",
   "metadata": {},
   "source": [
    "What operations do we perform on tables?"
   ]
  },
  {
   "cell_type": "code",
   "execution_count": 103,
   "metadata": {},
   "outputs": [
    {
     "data": {
      "text/html": [
       "<div>\n",
       "<style scoped>\n",
       "    .dataframe tbody tr th:only-of-type {\n",
       "        vertical-align: middle;\n",
       "    }\n",
       "\n",
       "    .dataframe tbody tr th {\n",
       "        vertical-align: top;\n",
       "    }\n",
       "\n",
       "    .dataframe thead th {\n",
       "        text-align: right;\n",
       "    }\n",
       "</style>\n",
       "<table border=\"1\" class=\"dataframe\">\n",
       "  <thead>\n",
       "    <tr style=\"text-align: right;\">\n",
       "      <th></th>\n",
       "      <th>A</th>\n",
       "      <th>B</th>\n",
       "      <th>ccc</th>\n",
       "    </tr>\n",
       "  </thead>\n",
       "  <tbody>\n",
       "    <tr>\n",
       "      <th>0</th>\n",
       "      <td>1</td>\n",
       "      <td>2</td>\n",
       "      <td>1.0</td>\n",
       "    </tr>\n",
       "    <tr>\n",
       "      <th>1</th>\n",
       "      <td>2</td>\n",
       "      <td>4</td>\n",
       "      <td>33.0</td>\n",
       "    </tr>\n",
       "    <tr>\n",
       "      <th>2</th>\n",
       "      <td>3</td>\n",
       "      <td>6</td>\n",
       "      <td>4.0</td>\n",
       "    </tr>\n",
       "  </tbody>\n",
       "</table>\n",
       "</div>"
      ],
      "text/plain": [
       "   A  B   ccc\n",
       "0  1  2   1.0\n",
       "1  2  4  33.0\n",
       "2  3  6   4.0"
      ]
     },
     "execution_count": 103,
     "metadata": {},
     "output_type": "execute_result"
    }
   ],
   "source": [
    "df = pd.DataFrame({'A': [1,2,3], 'B': [2, 4, 6], 'ccc': [1.0, 33, 4]})\n",
    "df          "
   ]
  },
  {
   "cell_type": "code",
   "execution_count": 104,
   "metadata": {},
   "outputs": [
    {
     "data": {
      "text/html": [
       "<div>\n",
       "<style scoped>\n",
       "    .dataframe tbody tr th:only-of-type {\n",
       "        vertical-align: middle;\n",
       "    }\n",
       "\n",
       "    .dataframe tbody tr th {\n",
       "        vertical-align: top;\n",
       "    }\n",
       "\n",
       "    .dataframe thead th {\n",
       "        text-align: right;\n",
       "    }\n",
       "</style>\n",
       "<table border=\"1\" class=\"dataframe\">\n",
       "  <thead>\n",
       "    <tr style=\"text-align: right;\">\n",
       "      <th></th>\n",
       "      <th>A</th>\n",
       "      <th>ccc</th>\n",
       "    </tr>\n",
       "  </thead>\n",
       "  <tbody>\n",
       "    <tr>\n",
       "      <th>0</th>\n",
       "      <td>1</td>\n",
       "      <td>1.0</td>\n",
       "    </tr>\n",
       "    <tr>\n",
       "      <th>1</th>\n",
       "      <td>2</td>\n",
       "      <td>33.0</td>\n",
       "    </tr>\n",
       "    <tr>\n",
       "      <th>2</th>\n",
       "      <td>3</td>\n",
       "      <td>4.0</td>\n",
       "    </tr>\n",
       "  </tbody>\n",
       "</table>\n",
       "</div>"
      ],
      "text/plain": [
       "   A   ccc\n",
       "0  1   1.0\n",
       "1  2  33.0\n",
       "2  3   4.0"
      ]
     },
     "execution_count": 104,
     "metadata": {},
     "output_type": "execute_result"
    }
   ],
   "source": [
    "sub_df = df[['A', 'ccc']]\n",
    "sub_df"
   ]
  },
  {
   "cell_type": "code",
   "execution_count": 105,
   "metadata": {},
   "outputs": [
    {
     "data": {
      "text/plain": [
       "0     5\n",
       "1    10\n",
       "2    15\n",
       "dtype: int64"
      ]
     },
     "execution_count": 105,
     "metadata": {},
     "output_type": "execute_result"
    }
   ],
   "source": [
    "df['A'] + 2*df['B']"
   ]
  },
  {
   "cell_type": "code",
   "execution_count": 106,
   "metadata": {},
   "outputs": [],
   "source": [
    "# Operations on a Pandas DataFrame"
   ]
  },
  {
   "cell_type": "markdown",
   "metadata": {},
   "source": [
    "## 5. Manipulating Data with DataFrames"
   ]
  },
  {
   "cell_type": "markdown",
   "metadata": {},
   "source": [
    "### Downloading the data\n",
    "\n",
    "shell commands can be run from the notebook by preceding them with an exclamation point:"
   ]
  },
  {
   "cell_type": "code",
   "execution_count": 107,
   "metadata": {},
   "outputs": [
    {
     "name": "stdout",
     "output_type": "stream",
     "text": [
      "Lecture-Python-And-Data.ipynb\t\tpronto.csv\r\n",
      "procedural_programming_in_python.ipynb\r\n"
     ]
    }
   ],
   "source": [
    "!ls"
   ]
  },
  {
   "cell_type": "markdown",
   "metadata": {},
   "source": [
    "uncomment this to download the data:"
   ]
  },
  {
   "cell_type": "code",
   "execution_count": 108,
   "metadata": {},
   "outputs": [],
   "source": [
    "#!curl -o pronto.csv https://data.seattle.gov/api/views/tw7j-dfaw/rows.csv?accessType=DOWNLOAD"
   ]
  },
  {
   "cell_type": "markdown",
   "metadata": {},
   "source": [
    "### Loading Data into a DataFrame"
   ]
  },
  {
   "cell_type": "markdown",
   "metadata": {},
   "source": [
    "Because we'll use it so much, we often import under a shortened name using the ``import ... as ...`` pattern:"
   ]
  },
  {
   "cell_type": "code",
   "execution_count": 109,
   "metadata": {},
   "outputs": [],
   "source": [
    "import pandas as pd\n",
    "df = pd.read_csv('pronto.csv')"
   ]
  },
  {
   "cell_type": "code",
   "execution_count": 110,
   "metadata": {},
   "outputs": [
    {
     "data": {
      "text/plain": [
       "pandas.core.frame.DataFrame"
      ]
     },
     "execution_count": 110,
     "metadata": {},
     "output_type": "execute_result"
    }
   ],
   "source": [
    "type(df)"
   ]
  },
  {
   "cell_type": "code",
   "execution_count": 111,
   "metadata": {},
   "outputs": [
    {
     "data": {
      "text/plain": [
       "275091"
      ]
     },
     "execution_count": 111,
     "metadata": {},
     "output_type": "execute_result"
    }
   ],
   "source": [
    "len(df)"
   ]
  },
  {
   "cell_type": "markdown",
   "metadata": {},
   "source": [
    "Now we can use the ``read_csv`` command to read the comma-separated-value data:"
   ]
  },
  {
   "cell_type": "markdown",
   "metadata": {},
   "source": [
    "*Note: strings in Python can be defined either with double quotes or single quotes*"
   ]
  },
  {
   "cell_type": "markdown",
   "metadata": {},
   "source": [
    "### Viewing Pandas Dataframes"
   ]
  },
  {
   "cell_type": "markdown",
   "metadata": {},
   "source": [
    "The ``head()`` and ``tail()`` methods show us the first and last rows of the data"
   ]
  },
  {
   "cell_type": "code",
   "execution_count": 112,
   "metadata": {},
   "outputs": [
    {
     "data": {
      "text/html": [
       "<div>\n",
       "<style scoped>\n",
       "    .dataframe tbody tr th:only-of-type {\n",
       "        vertical-align: middle;\n",
       "    }\n",
       "\n",
       "    .dataframe tbody tr th {\n",
       "        vertical-align: top;\n",
       "    }\n",
       "\n",
       "    .dataframe thead th {\n",
       "        text-align: right;\n",
       "    }\n",
       "</style>\n",
       "<table border=\"1\" class=\"dataframe\">\n",
       "  <thead>\n",
       "    <tr style=\"text-align: right;\">\n",
       "      <th></th>\n",
       "      <th>trip_id</th>\n",
       "      <th>starttime</th>\n",
       "      <th>stoptime</th>\n",
       "      <th>bikeid</th>\n",
       "      <th>tripduration</th>\n",
       "      <th>from_station_name</th>\n",
       "      <th>to_station_name</th>\n",
       "      <th>from_station_id</th>\n",
       "      <th>to_station_id</th>\n",
       "      <th>usertype</th>\n",
       "      <th>gender</th>\n",
       "      <th>birthyear</th>\n",
       "    </tr>\n",
       "  </thead>\n",
       "  <tbody>\n",
       "    <tr>\n",
       "      <th>0</th>\n",
       "      <td>431</td>\n",
       "      <td>10/13/2014 10:31:00 AM</td>\n",
       "      <td>10/13/2014 10:48:00 AM</td>\n",
       "      <td>SEA00298</td>\n",
       "      <td>985.935</td>\n",
       "      <td>2nd Ave &amp; Spring St</td>\n",
       "      <td>Occidental Park / Occidental Ave S &amp; S Washing...</td>\n",
       "      <td>CBD-06</td>\n",
       "      <td>PS-04</td>\n",
       "      <td>Member</td>\n",
       "      <td>Male</td>\n",
       "      <td>1960.0</td>\n",
       "    </tr>\n",
       "    <tr>\n",
       "      <th>1</th>\n",
       "      <td>432</td>\n",
       "      <td>10/13/2014 10:32:00 AM</td>\n",
       "      <td>10/13/2014 10:48:00 AM</td>\n",
       "      <td>SEA00195</td>\n",
       "      <td>926.375</td>\n",
       "      <td>2nd Ave &amp; Spring St</td>\n",
       "      <td>Occidental Park / Occidental Ave S &amp; S Washing...</td>\n",
       "      <td>CBD-06</td>\n",
       "      <td>PS-04</td>\n",
       "      <td>Member</td>\n",
       "      <td>Male</td>\n",
       "      <td>1970.0</td>\n",
       "    </tr>\n",
       "    <tr>\n",
       "      <th>2</th>\n",
       "      <td>433</td>\n",
       "      <td>10/13/2014 10:33:00 AM</td>\n",
       "      <td>10/13/2014 10:48:00 AM</td>\n",
       "      <td>SEA00486</td>\n",
       "      <td>883.831</td>\n",
       "      <td>2nd Ave &amp; Spring St</td>\n",
       "      <td>Occidental Park / Occidental Ave S &amp; S Washing...</td>\n",
       "      <td>CBD-06</td>\n",
       "      <td>PS-04</td>\n",
       "      <td>Member</td>\n",
       "      <td>Female</td>\n",
       "      <td>1988.0</td>\n",
       "    </tr>\n",
       "    <tr>\n",
       "      <th>3</th>\n",
       "      <td>434</td>\n",
       "      <td>10/13/2014 10:34:00 AM</td>\n",
       "      <td>10/13/2014 10:48:00 AM</td>\n",
       "      <td>SEA00333</td>\n",
       "      <td>865.937</td>\n",
       "      <td>2nd Ave &amp; Spring St</td>\n",
       "      <td>Occidental Park / Occidental Ave S &amp; S Washing...</td>\n",
       "      <td>CBD-06</td>\n",
       "      <td>PS-04</td>\n",
       "      <td>Member</td>\n",
       "      <td>Female</td>\n",
       "      <td>1977.0</td>\n",
       "    </tr>\n",
       "    <tr>\n",
       "      <th>4</th>\n",
       "      <td>435</td>\n",
       "      <td>10/13/2014 10:34:00 AM</td>\n",
       "      <td>10/13/2014 10:49:00 AM</td>\n",
       "      <td>SEA00202</td>\n",
       "      <td>923.923</td>\n",
       "      <td>2nd Ave &amp; Spring St</td>\n",
       "      <td>Occidental Park / Occidental Ave S &amp; S Washing...</td>\n",
       "      <td>CBD-06</td>\n",
       "      <td>PS-04</td>\n",
       "      <td>Member</td>\n",
       "      <td>Male</td>\n",
       "      <td>1971.0</td>\n",
       "    </tr>\n",
       "  </tbody>\n",
       "</table>\n",
       "</div>"
      ],
      "text/plain": [
       "   trip_id               starttime                stoptime    bikeid  \\\n",
       "0      431  10/13/2014 10:31:00 AM  10/13/2014 10:48:00 AM  SEA00298   \n",
       "1      432  10/13/2014 10:32:00 AM  10/13/2014 10:48:00 AM  SEA00195   \n",
       "2      433  10/13/2014 10:33:00 AM  10/13/2014 10:48:00 AM  SEA00486   \n",
       "3      434  10/13/2014 10:34:00 AM  10/13/2014 10:48:00 AM  SEA00333   \n",
       "4      435  10/13/2014 10:34:00 AM  10/13/2014 10:49:00 AM  SEA00202   \n",
       "\n",
       "   tripduration    from_station_name  \\\n",
       "0       985.935  2nd Ave & Spring St   \n",
       "1       926.375  2nd Ave & Spring St   \n",
       "2       883.831  2nd Ave & Spring St   \n",
       "3       865.937  2nd Ave & Spring St   \n",
       "4       923.923  2nd Ave & Spring St   \n",
       "\n",
       "                                     to_station_name from_station_id  \\\n",
       "0  Occidental Park / Occidental Ave S & S Washing...          CBD-06   \n",
       "1  Occidental Park / Occidental Ave S & S Washing...          CBD-06   \n",
       "2  Occidental Park / Occidental Ave S & S Washing...          CBD-06   \n",
       "3  Occidental Park / Occidental Ave S & S Washing...          CBD-06   \n",
       "4  Occidental Park / Occidental Ave S & S Washing...          CBD-06   \n",
       "\n",
       "  to_station_id usertype  gender  birthyear  \n",
       "0         PS-04   Member    Male     1960.0  \n",
       "1         PS-04   Member    Male     1970.0  \n",
       "2         PS-04   Member  Female     1988.0  \n",
       "3         PS-04   Member  Female     1977.0  \n",
       "4         PS-04   Member    Male     1971.0  "
      ]
     },
     "execution_count": 112,
     "metadata": {},
     "output_type": "execute_result"
    }
   ],
   "source": [
    "df.head()"
   ]
  },
  {
   "cell_type": "code",
   "execution_count": 113,
   "metadata": {},
   "outputs": [
    {
     "data": {
      "text/plain": [
       "Index(['trip_id', 'starttime', 'stoptime', 'bikeid', 'tripduration',\n",
       "       'from_station_name', 'to_station_name', 'from_station_id',\n",
       "       'to_station_id', 'usertype', 'gender', 'birthyear'],\n",
       "      dtype='object')"
      ]
     },
     "execution_count": 113,
     "metadata": {},
     "output_type": "execute_result"
    }
   ],
   "source": [
    "df.columns"
   ]
  },
  {
   "cell_type": "markdown",
   "metadata": {},
   "source": [
    "The ``shape`` attribute shows us the number of elements:"
   ]
  },
  {
   "cell_type": "code",
   "execution_count": 114,
   "metadata": {},
   "outputs": [
    {
     "data": {
      "text/plain": [
       "(275091, 12)"
      ]
     },
     "execution_count": 114,
     "metadata": {},
     "output_type": "execute_result"
    }
   ],
   "source": [
    "df.shape"
   ]
  },
  {
   "cell_type": "markdown",
   "metadata": {},
   "source": [
    "The ``columns`` attribute gives us the column names"
   ]
  },
  {
   "cell_type": "markdown",
   "metadata": {},
   "source": [
    "The ``index`` attribute gives us the index names"
   ]
  },
  {
   "cell_type": "markdown",
   "metadata": {},
   "source": [
    "The ``dtypes`` attribute gives the data types of each column:"
   ]
  },
  {
   "cell_type": "code",
   "execution_count": 115,
   "metadata": {},
   "outputs": [
    {
     "data": {
      "text/plain": [
       "trip_id                int64\n",
       "starttime             object\n",
       "stoptime              object\n",
       "bikeid                object\n",
       "tripduration         float64\n",
       "from_station_name     object\n",
       "to_station_name       object\n",
       "from_station_id       object\n",
       "to_station_id         object\n",
       "usertype              object\n",
       "gender                object\n",
       "birthyear            float64\n",
       "dtype: object"
      ]
     },
     "execution_count": 115,
     "metadata": {},
     "output_type": "execute_result"
    }
   ],
   "source": [
    "df.dtypes"
   ]
  },
  {
   "cell_type": "markdown",
   "metadata": {},
   "source": [
    "### Sophisticated Data Manipulation\n",
    "\n",
    "Here we'll cover some key features of manipulating data with pandas"
   ]
  },
  {
   "cell_type": "markdown",
   "metadata": {},
   "source": [
    "Access columns by name using square-bracket indexing:"
   ]
  },
  {
   "cell_type": "code",
   "execution_count": 116,
   "metadata": {},
   "outputs": [],
   "source": [
    "df_small = df[ 'stoptime']"
   ]
  },
  {
   "cell_type": "code",
   "execution_count": 117,
   "metadata": {},
   "outputs": [
    {
     "data": {
      "text/plain": [
       "pandas.core.series.Series"
      ]
     },
     "execution_count": 117,
     "metadata": {},
     "output_type": "execute_result"
    }
   ],
   "source": [
    "type(df_small)"
   ]
  },
  {
   "cell_type": "code",
   "execution_count": 118,
   "metadata": {},
   "outputs": [
    {
     "data": {
      "text/plain": [
       "['10/13/2014 10:48:00 AM',\n",
       " '10/13/2014 10:48:00 AM',\n",
       " '10/13/2014 10:48:00 AM',\n",
       " '10/13/2014 10:48:00 AM',\n",
       " '10/13/2014 10:49:00 AM',\n",
       " '10/13/2014 10:47:00 AM',\n",
       " '10/13/2014 11:45:00 AM',\n",
       " '10/13/2014 11:45:00 AM',\n",
       " '10/13/2014 11:45:00 AM',\n",
       " '10/13/2014 11:45:00 AM',\n",
       " '10/13/2014 11:45:00 AM',\n",
       " '10/13/2014 11:47:00 AM',\n",
       " '10/13/2014 11:47:00 AM',\n",
       " '10/13/2014 11:47:00 AM',\n",
       " '10/13/2014 11:47:00 AM',\n",
       " '10/13/2014 11:47:00 AM',\n",
       " '10/13/2014 11:47:00 AM',\n",
       " '10/13/2014 11:47:00 AM',\n",
       " '10/13/2014 11:49:00 AM',\n",
       " '10/13/2014 11:51:00 AM',\n",
       " '10/13/2014 11:51:00 AM',\n",
       " '10/13/2014 11:51:00 AM',\n",
       " '10/13/2014 11:49:00 AM',\n",
       " '10/13/2014 11:51:00 AM',\n",
       " '10/13/2014 11:51:00 AM',\n",
       " '10/13/2014 11:52:00 AM',\n",
       " '10/13/2014 11:51:00 AM',\n",
       " '10/13/2014 11:51:00 AM',\n",
       " '10/13/2014 11:51:00 AM',\n",
       " '10/13/2014 11:55:00 AM',\n",
       " '10/13/2014 12:00:00 PM',\n",
       " '10/13/2014 12:00:00 PM',\n",
       " '10/13/2014 12:00:00 PM',\n",
       " '10/13/2014 12:02:00 PM',\n",
       " '10/13/2014 12:00:00 PM',\n",
       " '10/13/2014 12:00:00 PM',\n",
       " '10/13/2014 11:51:00 AM',\n",
       " '10/13/2014 11:59:00 AM',\n",
       " '10/13/2014 12:00:00 PM',\n",
       " '10/13/2014 11:59:00 AM',\n",
       " '10/13/2014 11:59:00 AM',\n",
       " '10/13/2014 11:59:00 AM',\n",
       " '10/13/2014 12:06:00 PM',\n",
       " '10/13/2014 12:01:00 PM',\n",
       " '10/13/2014 12:04:00 PM',\n",
       " '10/13/2014 12:01:00 PM',\n",
       " '10/13/2014 12:11:00 PM',\n",
       " '10/13/2014 12:11:00 PM',\n",
       " '10/13/2014 12:04:00 PM',\n",
       " '10/13/2014 12:01:00 PM',\n",
       " '10/13/2014 12:04:00 PM',\n",
       " '10/13/2014 12:05:00 PM',\n",
       " '10/13/2014 12:04:00 PM',\n",
       " '10/13/2014 11:55:00 AM',\n",
       " '10/13/2014 12:02:00 PM',\n",
       " '10/13/2014 12:39:00 PM',\n",
       " '10/13/2014 12:39:00 PM',\n",
       " '10/13/2014 12:05:00 PM',\n",
       " '10/13/2014 12:39:00 PM',\n",
       " '10/13/2014 12:19:00 PM',\n",
       " '10/13/2014 12:40:00 PM',\n",
       " '10/13/2014 12:20:00 PM',\n",
       " '10/13/2014 02:28:00 PM',\n",
       " '10/13/2014 12:10:00 PM',\n",
       " '10/13/2014 12:13:00 PM',\n",
       " '10/13/2014 12:13:00 PM',\n",
       " '10/13/2014 12:16:00 PM',\n",
       " '10/13/2014 12:45:00 PM',\n",
       " '10/13/2014 07:07:00 PM',\n",
       " '10/13/2014 12:16:00 PM',\n",
       " '10/13/2014 12:25:00 PM',\n",
       " '10/13/2014 12:20:00 PM',\n",
       " '10/13/2014 12:31:00 PM',\n",
       " '10/13/2014 12:31:00 PM',\n",
       " '10/13/2014 12:31:00 PM',\n",
       " '10/13/2014 12:22:00 PM',\n",
       " '10/13/2014 12:21:00 PM',\n",
       " '10/13/2014 12:34:00 PM',\n",
       " '10/13/2014 12:31:00 PM',\n",
       " '10/13/2014 12:26:00 PM',\n",
       " '10/13/2014 12:32:00 PM',\n",
       " '10/13/2014 12:57:00 PM',\n",
       " '10/13/2014 12:57:00 PM',\n",
       " '10/13/2014 01:21:00 PM',\n",
       " '10/13/2014 12:36:00 PM',\n",
       " '10/13/2014 12:40:00 PM',\n",
       " '10/13/2014 12:40:00 PM',\n",
       " '10/13/2014 12:47:00 PM',\n",
       " '10/13/2014 12:46:00 PM',\n",
       " '10/13/2014 12:45:00 PM',\n",
       " '10/13/2014 12:48:00 PM',\n",
       " '10/13/2014 12:47:00 PM',\n",
       " '10/13/2014 12:51:00 PM',\n",
       " '10/13/2014 12:58:00 PM',\n",
       " '10/13/2014 12:52:00 PM',\n",
       " '10/13/2014 12:58:00 PM',\n",
       " '10/13/2014 12:59:00 PM',\n",
       " '10/13/2014 01:15:00 PM',\n",
       " '10/13/2014 01:04:00 PM',\n",
       " '10/13/2014 01:18:00 PM',\n",
       " '10/13/2014 01:16:00 PM',\n",
       " '10/13/2014 01:13:00 PM',\n",
       " '10/13/2014 01:10:00 PM',\n",
       " '10/13/2014 01:12:00 PM',\n",
       " '10/13/2014 01:16:00 PM',\n",
       " '10/13/2014 01:14:00 PM',\n",
       " '10/13/2014 01:30:00 PM',\n",
       " '10/13/2014 01:22:00 PM',\n",
       " '10/13/2014 01:22:00 PM',\n",
       " '10/13/2014 01:15:00 PM',\n",
       " '10/13/2014 01:09:00 PM',\n",
       " '10/13/2014 01:18:00 PM',\n",
       " '10/13/2014 01:27:00 PM',\n",
       " '10/13/2014 01:24:00 PM',\n",
       " '10/13/2014 01:30:00 PM',\n",
       " '10/13/2014 01:33:00 PM',\n",
       " '10/13/2014 01:33:00 PM',\n",
       " '10/13/2014 01:33:00 PM',\n",
       " '10/13/2014 01:42:00 PM',\n",
       " '10/13/2014 01:42:00 PM',\n",
       " '10/13/2014 01:42:00 PM',\n",
       " '10/13/2014 12:47:00 PM',\n",
       " '10/13/2014 12:49:00 PM',\n",
       " '10/13/2014 01:44:00 PM',\n",
       " '10/13/2014 02:29:00 PM',\n",
       " '10/13/2014 01:52:00 PM',\n",
       " '10/13/2014 02:22:00 PM',\n",
       " '10/13/2014 01:45:00 PM',\n",
       " '10/13/2014 01:55:00 PM',\n",
       " '10/13/2014 01:56:00 PM',\n",
       " '10/13/2014 02:03:00 PM',\n",
       " '10/13/2014 01:52:00 PM',\n",
       " '10/13/2014 02:09:00 PM',\n",
       " '10/13/2014 02:09:00 PM',\n",
       " '10/13/2014 01:49:00 PM',\n",
       " '10/13/2014 02:09:00 PM',\n",
       " '10/13/2014 01:56:00 PM',\n",
       " '10/13/2014 01:59:00 PM',\n",
       " '10/13/2014 02:08:00 PM',\n",
       " '10/13/2014 02:05:00 PM',\n",
       " '10/13/2014 02:12:00 PM',\n",
       " '10/13/2014 02:07:00 PM',\n",
       " '10/13/2014 02:35:00 PM',\n",
       " '10/13/2014 02:35:00 PM',\n",
       " '10/13/2014 02:07:00 PM',\n",
       " '10/13/2014 02:11:00 PM',\n",
       " '10/13/2014 02:12:00 PM',\n",
       " '10/13/2014 02:35:00 PM',\n",
       " '10/13/2014 02:18:00 PM',\n",
       " '10/13/2014 02:18:00 PM',\n",
       " '10/13/2014 02:18:00 PM',\n",
       " '10/13/2014 02:18:00 PM',\n",
       " '10/13/2014 02:39:00 PM',\n",
       " '10/13/2014 02:39:00 PM',\n",
       " '10/13/2014 02:16:00 PM',\n",
       " '10/13/2014 02:39:00 PM',\n",
       " '10/13/2014 02:39:00 PM',\n",
       " '10/13/2014 03:08:00 PM',\n",
       " '10/13/2014 02:38:00 PM',\n",
       " '10/13/2014 02:38:00 PM',\n",
       " '10/13/2014 02:20:00 PM',\n",
       " '10/13/2014 02:24:00 PM',\n",
       " '10/13/2014 02:38:00 PM',\n",
       " '10/13/2014 02:26:00 PM',\n",
       " '10/13/2014 02:34:00 PM',\n",
       " '10/13/2014 02:34:00 PM',\n",
       " '10/13/2014 02:31:00 PM',\n",
       " '10/13/2014 02:26:00 PM',\n",
       " '10/13/2014 02:29:00 PM',\n",
       " '10/13/2014 02:48:00 PM',\n",
       " '10/13/2014 02:48:00 PM',\n",
       " '10/13/2014 02:51:00 PM',\n",
       " '10/13/2014 02:37:00 PM',\n",
       " '10/13/2014 02:33:00 PM',\n",
       " '10/13/2014 02:34:00 PM',\n",
       " '10/13/2014 02:31:00 PM',\n",
       " '10/13/2014 02:30:00 PM',\n",
       " '10/13/2014 02:49:00 PM',\n",
       " '10/13/2014 02:40:00 PM',\n",
       " '10/13/2014 02:56:00 PM',\n",
       " '10/13/2014 02:56:00 PM',\n",
       " '10/13/2014 02:39:00 PM',\n",
       " '10/13/2014 02:49:00 PM',\n",
       " '10/13/2014 02:56:00 PM',\n",
       " '10/13/2014 02:55:00 PM',\n",
       " '10/13/2014 02:56:00 PM',\n",
       " '10/13/2014 02:56:00 PM',\n",
       " '10/13/2014 03:01:00 PM',\n",
       " '10/13/2014 02:54:00 PM',\n",
       " '10/13/2014 02:56:00 PM',\n",
       " '10/13/2014 02:56:00 PM',\n",
       " '10/13/2014 03:09:00 PM',\n",
       " '10/13/2014 03:10:00 PM',\n",
       " '10/13/2014 05:59:00 PM',\n",
       " '10/13/2014 03:02:00 PM',\n",
       " '10/13/2014 03:13:00 PM',\n",
       " '10/13/2014 03:10:00 PM',\n",
       " '10/13/2014 03:16:00 PM',\n",
       " '10/13/2014 03:11:00 PM',\n",
       " '10/13/2014 03:11:00 PM',\n",
       " '10/13/2014 03:23:00 PM',\n",
       " '10/13/2014 03:23:00 PM',\n",
       " '10/13/2014 03:25:00 PM',\n",
       " '10/13/2014 03:53:00 PM',\n",
       " '10/13/2014 03:47:00 PM',\n",
       " '10/13/2014 03:20:00 PM',\n",
       " '10/13/2014 03:53:00 PM',\n",
       " '10/13/2014 03:57:00 PM',\n",
       " '10/13/2014 05:16:00 PM',\n",
       " '10/13/2014 03:27:00 PM',\n",
       " '10/13/2014 03:36:00 PM',\n",
       " '10/13/2014 03:50:00 PM',\n",
       " '10/13/2014 03:48:00 PM',\n",
       " '10/13/2014 03:37:00 PM',\n",
       " '10/13/2014 03:47:00 PM',\n",
       " '10/13/2014 03:48:00 PM',\n",
       " '10/13/2014 03:48:00 PM',\n",
       " '10/13/2014 03:57:00 PM',\n",
       " '10/13/2014 03:59:00 PM',\n",
       " '10/13/2014 04:05:00 PM',\n",
       " '10/13/2014 04:08:00 PM',\n",
       " '10/13/2014 04:07:00 PM',\n",
       " '10/13/2014 03:57:00 PM',\n",
       " '10/13/2014 04:00:00 PM',\n",
       " '10/13/2014 04:16:00 PM',\n",
       " '10/13/2014 05:08:00 PM',\n",
       " '10/13/2014 04:22:00 PM',\n",
       " '10/13/2014 04:10:00 PM',\n",
       " '10/13/2014 04:10:00 PM',\n",
       " '10/13/2014 04:05:00 PM',\n",
       " '10/13/2014 04:05:00 PM',\n",
       " '10/13/2014 04:13:00 PM',\n",
       " '10/13/2014 04:20:00 PM',\n",
       " '10/13/2014 04:10:00 PM',\n",
       " '10/13/2014 04:15:00 PM',\n",
       " '10/13/2014 04:15:00 PM',\n",
       " '10/13/2014 04:30:00 PM',\n",
       " '10/13/2014 04:19:00 PM',\n",
       " '10/13/2014 04:28:00 PM',\n",
       " '10/13/2014 04:24:00 PM',\n",
       " '10/13/2014 04:47:00 PM',\n",
       " '10/13/2014 04:46:00 PM',\n",
       " '10/13/2014 04:22:00 PM',\n",
       " '10/13/2014 04:24:00 PM',\n",
       " '10/13/2014 04:22:00 PM',\n",
       " '10/13/2014 04:42:00 PM',\n",
       " '10/13/2014 04:37:00 PM',\n",
       " '10/13/2014 04:37:00 PM',\n",
       " '10/13/2014 04:47:00 PM',\n",
       " '10/13/2014 04:32:00 PM',\n",
       " '10/13/2014 04:47:00 PM',\n",
       " '10/13/2014 04:48:00 PM',\n",
       " '10/13/2014 04:40:00 PM',\n",
       " '10/13/2014 04:33:00 PM',\n",
       " '10/13/2014 04:33:00 PM',\n",
       " '10/13/2014 04:39:00 PM',\n",
       " '10/13/2014 04:42:00 PM',\n",
       " '10/13/2014 04:51:00 PM',\n",
       " '10/13/2014 04:51:00 PM',\n",
       " '10/13/2014 04:45:00 PM',\n",
       " '10/13/2014 04:48:00 PM',\n",
       " '10/13/2014 04:50:00 PM',\n",
       " '10/13/2014 04:58:00 PM',\n",
       " '10/13/2014 05:11:00 PM',\n",
       " '10/13/2014 05:14:00 PM',\n",
       " '10/13/2014 04:54:00 PM',\n",
       " '10/13/2014 05:14:00 PM',\n",
       " '10/13/2014 05:14:00 PM',\n",
       " '10/13/2014 05:03:00 PM',\n",
       " '10/13/2014 05:07:00 PM',\n",
       " '10/13/2014 05:14:00 PM',\n",
       " '10/13/2014 05:19:00 PM',\n",
       " '10/13/2014 05:01:00 PM',\n",
       " '10/13/2014 05:12:00 PM',\n",
       " '10/13/2014 05:16:00 PM',\n",
       " '10/13/2014 05:10:00 PM',\n",
       " '10/13/2014 05:19:00 PM',\n",
       " '10/13/2014 05:20:00 PM',\n",
       " '10/13/2014 05:19:00 PM',\n",
       " '10/13/2014 05:19:00 PM',\n",
       " '10/13/2014 05:16:00 PM',\n",
       " '10/13/2014 05:07:00 PM',\n",
       " '10/13/2014 05:21:00 PM',\n",
       " '10/13/2014 05:20:00 PM',\n",
       " '10/13/2014 05:18:00 PM',\n",
       " '10/13/2014 05:20:00 PM',\n",
       " '10/13/2014 05:15:00 PM',\n",
       " '10/13/2014 05:15:00 PM',\n",
       " '10/13/2014 05:27:00 PM',\n",
       " '10/13/2014 05:20:00 PM',\n",
       " '10/13/2014 05:25:00 PM',\n",
       " '10/13/2014 05:23:00 PM',\n",
       " '10/13/2014 05:32:00 PM',\n",
       " '10/13/2014 05:31:00 PM',\n",
       " '10/13/2014 05:30:00 PM',\n",
       " '10/13/2014 05:39:00 PM',\n",
       " '10/13/2014 05:43:00 PM',\n",
       " '10/13/2014 05:52:00 PM',\n",
       " '10/13/2014 05:52:00 PM',\n",
       " '10/13/2014 05:32:00 PM',\n",
       " '10/13/2014 05:52:00 PM',\n",
       " '10/13/2014 06:09:00 PM',\n",
       " '10/13/2014 05:52:00 PM',\n",
       " '10/13/2014 05:53:00 PM',\n",
       " '10/13/2014 05:47:00 PM',\n",
       " '10/13/2014 05:47:00 PM',\n",
       " '10/13/2014 05:47:00 PM',\n",
       " '10/13/2014 05:48:00 PM',\n",
       " '10/13/2014 05:55:00 PM',\n",
       " '10/13/2014 05:58:00 PM',\n",
       " '10/13/2014 05:51:00 PM',\n",
       " '10/13/2014 05:44:00 PM',\n",
       " '10/13/2014 05:55:00 PM',\n",
       " '10/13/2014 05:49:00 PM',\n",
       " '10/13/2014 06:06:00 PM',\n",
       " '10/13/2014 05:52:00 PM',\n",
       " '10/13/2014 05:58:00 PM',\n",
       " '10/13/2014 05:49:00 PM',\n",
       " '10/13/2014 06:00:00 PM',\n",
       " '10/13/2014 06:02:00 PM',\n",
       " '10/13/2014 06:11:00 PM',\n",
       " '10/13/2014 06:01:00 PM',\n",
       " '10/13/2014 06:03:00 PM',\n",
       " '10/13/2014 06:18:00 PM',\n",
       " '10/13/2014 06:03:00 PM',\n",
       " '10/13/2014 07:28:00 PM',\n",
       " '10/13/2014 06:27:00 PM',\n",
       " '10/13/2014 06:27:00 PM',\n",
       " '10/13/2014 06:07:00 PM',\n",
       " '10/13/2014 06:28:00 PM',\n",
       " '10/13/2014 06:19:00 PM',\n",
       " '10/13/2014 06:27:00 PM',\n",
       " '10/13/2014 06:08:00 PM',\n",
       " '10/13/2014 06:15:00 PM',\n",
       " '10/13/2014 06:11:00 PM',\n",
       " '10/13/2014 06:16:00 PM',\n",
       " '10/13/2014 06:13:00 PM',\n",
       " '10/13/2014 06:13:00 PM',\n",
       " '10/13/2014 06:34:00 PM',\n",
       " '10/13/2014 06:19:00 PM',\n",
       " '10/13/2014 06:30:00 PM',\n",
       " '10/13/2014 06:35:00 PM',\n",
       " '10/13/2014 06:28:00 PM',\n",
       " '10/13/2014 06:31:00 PM',\n",
       " '10/13/2014 06:30:00 PM',\n",
       " '10/13/2014 06:43:00 PM',\n",
       " '10/13/2014 06:32:00 PM',\n",
       " '10/13/2014 06:44:00 PM',\n",
       " '10/13/2014 06:44:00 PM',\n",
       " '10/13/2014 06:33:00 PM',\n",
       " '10/13/2014 06:46:00 PM',\n",
       " '10/13/2014 06:46:00 PM',\n",
       " '10/13/2014 06:38:00 PM',\n",
       " '10/13/2014 06:46:00 PM',\n",
       " '10/13/2014 06:46:00 PM',\n",
       " '10/13/2014 06:38:00 PM',\n",
       " '10/13/2014 06:43:00 PM',\n",
       " '10/13/2014 06:43:00 PM',\n",
       " '10/13/2014 06:54:00 PM',\n",
       " '10/13/2014 06:49:00 PM',\n",
       " '10/13/2014 06:54:00 PM',\n",
       " '10/13/2014 07:10:00 PM',\n",
       " '10/13/2014 07:47:00 PM',\n",
       " '10/13/2014 07:48:00 PM',\n",
       " '10/13/2014 06:53:00 PM',\n",
       " '10/13/2014 07:05:00 PM',\n",
       " '10/13/2014 06:54:00 PM',\n",
       " '10/13/2014 07:05:00 PM',\n",
       " '10/13/2014 07:19:00 PM',\n",
       " '10/13/2014 07:47:00 PM',\n",
       " '10/13/2014 07:46:00 PM',\n",
       " '10/13/2014 07:39:00 PM',\n",
       " '10/13/2014 07:39:00 PM',\n",
       " '10/13/2014 07:47:00 PM',\n",
       " '10/13/2014 07:46:00 PM',\n",
       " '10/13/2014 07:56:00 PM',\n",
       " '10/13/2014 07:45:00 PM',\n",
       " '10/13/2014 08:12:00 PM',\n",
       " '10/13/2014 08:15:00 PM',\n",
       " '10/13/2014 08:14:00 PM',\n",
       " '10/13/2014 08:08:00 PM',\n",
       " '10/13/2014 08:22:00 PM',\n",
       " '10/13/2014 08:19:00 PM',\n",
       " '10/13/2014 08:28:00 PM',\n",
       " '10/13/2014 08:33:00 PM',\n",
       " '10/13/2014 09:24:00 PM',\n",
       " '10/13/2014 08:52:00 PM',\n",
       " '10/13/2014 08:38:00 PM',\n",
       " '10/13/2014 08:52:00 PM',\n",
       " '10/13/2014 08:57:00 PM',\n",
       " '10/13/2014 08:49:00 PM',\n",
       " '10/13/2014 09:18:00 PM',\n",
       " '10/13/2014 09:26:00 PM',\n",
       " '10/13/2014 09:11:00 PM',\n",
       " '10/13/2014 09:21:00 PM',\n",
       " '10/13/2014 09:20:00 PM',\n",
       " '10/13/2014 09:39:00 PM',\n",
       " '10/13/2014 09:28:00 PM',\n",
       " '10/13/2014 09:41:00 PM',\n",
       " '10/13/2014 09:54:00 PM',\n",
       " '10/13/2014 09:59:00 PM',\n",
       " '10/13/2014 09:57:00 PM',\n",
       " '10/13/2014 10:05:00 PM',\n",
       " '10/13/2014 10:08:00 PM',\n",
       " '10/13/2014 10:22:00 PM',\n",
       " '10/13/2014 10:32:00 PM',\n",
       " '10/13/2014 11:17:00 PM',\n",
       " '10/13/2014 11:15:00 PM',\n",
       " '10/14/2014 06:52:00 AM',\n",
       " '10/14/2014 05:57:00 AM',\n",
       " '10/14/2014 06:14:00 AM',\n",
       " '10/14/2014 06:36:00 AM',\n",
       " '10/14/2014 06:42:00 AM',\n",
       " '10/14/2014 06:50:00 AM',\n",
       " '10/14/2014 06:50:00 AM',\n",
       " '10/14/2014 07:21:00 AM',\n",
       " '10/14/2014 07:28:00 AM',\n",
       " '10/14/2014 07:29:00 AM',\n",
       " '10/14/2014 07:36:00 AM',\n",
       " '10/14/2014 07:34:00 AM',\n",
       " '10/14/2014 07:34:00 AM',\n",
       " '10/14/2014 07:39:00 AM',\n",
       " '10/14/2014 07:50:00 AM',\n",
       " '10/14/2014 07:50:00 AM',\n",
       " '10/14/2014 07:48:00 AM',\n",
       " '10/14/2014 07:45:00 AM',\n",
       " '10/14/2014 07:48:00 AM',\n",
       " '10/14/2014 07:58:00 AM',\n",
       " '10/14/2014 08:00:00 AM',\n",
       " '10/14/2014 07:50:00 AM',\n",
       " '10/14/2014 07:55:00 AM',\n",
       " '10/14/2014 08:05:00 AM',\n",
       " '10/14/2014 08:01:00 AM',\n",
       " '10/14/2014 08:18:00 AM',\n",
       " '10/14/2014 08:03:00 AM',\n",
       " '10/14/2014 08:14:00 AM',\n",
       " '10/14/2014 08:06:00 AM',\n",
       " '10/14/2014 08:06:00 AM',\n",
       " '10/14/2014 08:09:00 AM',\n",
       " '10/14/2014 08:12:00 AM',\n",
       " '10/14/2014 08:16:00 AM',\n",
       " '10/14/2014 08:11:00 AM',\n",
       " '10/14/2014 08:09:00 AM',\n",
       " '10/14/2014 08:14:00 AM',\n",
       " '10/14/2014 08:19:00 AM',\n",
       " '10/14/2014 08:37:00 AM',\n",
       " '10/14/2014 08:19:00 AM',\n",
       " '10/14/2014 10:11:00 AM',\n",
       " '10/14/2014 08:17:00 AM',\n",
       " '10/14/2014 08:29:00 AM',\n",
       " '10/14/2014 08:26:00 AM',\n",
       " '10/14/2014 08:30:00 AM',\n",
       " '10/14/2014 08:41:00 AM',\n",
       " '10/14/2014 08:31:00 AM',\n",
       " '10/14/2014 08:33:00 AM',\n",
       " '10/14/2014 08:33:00 AM',\n",
       " '10/14/2014 08:38:00 AM',\n",
       " '10/14/2014 08:44:00 AM',\n",
       " '10/14/2014 08:39:00 AM',\n",
       " '10/14/2014 08:54:00 AM',\n",
       " '10/14/2014 08:46:00 AM',\n",
       " '10/14/2014 08:45:00 AM',\n",
       " '10/14/2014 08:48:00 AM',\n",
       " '10/14/2014 09:00:00 AM',\n",
       " '10/14/2014 09:14:00 AM',\n",
       " '10/14/2014 08:50:00 AM',\n",
       " '10/14/2014 08:59:00 AM',\n",
       " '10/14/2014 08:54:00 AM',\n",
       " '10/14/2014 09:17:00 AM',\n",
       " '10/14/2014 09:26:00 AM',\n",
       " '10/14/2014 09:04:00 AM',\n",
       " '10/14/2014 09:02:00 AM',\n",
       " '10/14/2014 09:18:00 AM',\n",
       " '10/14/2014 09:10:00 AM',\n",
       " '10/14/2014 09:17:00 AM',\n",
       " '10/14/2014 01:20:00 PM',\n",
       " '10/14/2014 09:26:00 AM',\n",
       " '10/14/2014 09:20:00 AM',\n",
       " '10/14/2014 09:30:00 AM',\n",
       " '10/14/2014 09:37:00 AM',\n",
       " '10/14/2014 09:32:00 AM',\n",
       " '10/14/2014 09:38:00 AM',\n",
       " '10/14/2014 09:41:00 AM',\n",
       " '10/14/2014 09:40:00 AM',\n",
       " '10/14/2014 09:45:00 AM',\n",
       " '10/14/2014 09:40:00 AM',\n",
       " '10/14/2014 10:15:00 AM',\n",
       " '10/14/2014 10:15:00 AM',\n",
       " '10/14/2014 09:44:00 AM',\n",
       " '10/14/2014 09:54:00 AM',\n",
       " '10/14/2014 11:59:00 AM',\n",
       " '10/14/2014 09:54:00 AM',\n",
       " '10/14/2014 10:00:00 AM',\n",
       " '10/14/2014 10:10:00 AM',\n",
       " '10/14/2014 10:05:00 AM',\n",
       " '10/14/2014 10:01:00 AM',\n",
       " '10/14/2014 10:08:00 AM',\n",
       " '10/14/2014 10:09:00 AM',\n",
       " '10/14/2014 10:27:00 AM',\n",
       " '10/14/2014 10:08:00 AM',\n",
       " '10/14/2014 10:17:00 AM',\n",
       " '10/14/2014 10:10:00 AM',\n",
       " '10/14/2014 10:30:00 AM',\n",
       " '10/14/2014 10:30:00 AM',\n",
       " '10/14/2014 10:23:00 AM',\n",
       " '10/14/2014 10:24:00 AM',\n",
       " '10/14/2014 10:34:00 AM',\n",
       " '10/14/2014 10:53:00 AM',\n",
       " '10/14/2014 10:53:00 AM',\n",
       " '10/14/2014 10:51:00 AM',\n",
       " '10/14/2014 10:48:00 AM',\n",
       " '10/14/2014 10:53:00 AM',\n",
       " '10/14/2014 05:19:00 PM',\n",
       " '10/14/2014 11:01:00 AM',\n",
       " '10/14/2014 11:01:00 AM',\n",
       " '10/14/2014 11:07:00 AM',\n",
       " '10/14/2014 11:27:00 AM',\n",
       " '10/14/2014 11:25:00 AM',\n",
       " '10/14/2014 11:13:00 AM',\n",
       " '10/14/2014 11:13:00 AM',\n",
       " '10/14/2014 11:17:00 AM',\n",
       " '10/14/2014 11:18:00 AM',\n",
       " '10/14/2014 11:18:00 AM',\n",
       " '10/14/2014 11:20:00 AM',\n",
       " '10/14/2014 11:27:00 AM',\n",
       " '10/14/2014 11:27:00 AM',\n",
       " '10/14/2014 11:27:00 AM',\n",
       " '10/14/2014 11:32:00 AM',\n",
       " '10/14/2014 11:26:00 AM',\n",
       " '10/14/2014 11:35:00 AM',\n",
       " '10/14/2014 12:16:00 PM',\n",
       " '10/14/2014 12:16:00 PM',\n",
       " '10/14/2014 11:38:00 AM',\n",
       " '10/14/2014 11:43:00 AM',\n",
       " '10/14/2014 11:43:00 AM',\n",
       " '10/14/2014 11:43:00 AM',\n",
       " '10/14/2014 11:54:00 AM',\n",
       " '10/14/2014 11:54:00 AM',\n",
       " '10/14/2014 11:54:00 AM',\n",
       " '10/14/2014 11:54:00 AM',\n",
       " '10/14/2014 11:49:00 AM',\n",
       " '10/14/2014 11:55:00 AM',\n",
       " '10/14/2014 11:54:00 AM',\n",
       " '10/14/2014 11:57:00 AM',\n",
       " '10/14/2014 11:56:00 AM',\n",
       " '10/14/2014 12:02:00 PM',\n",
       " '10/14/2014 12:06:00 PM',\n",
       " '10/14/2014 11:56:00 AM',\n",
       " '10/14/2014 12:11:00 PM',\n",
       " '10/14/2014 02:11:00 PM',\n",
       " '10/14/2014 02:11:00 PM',\n",
       " '10/14/2014 12:11:00 PM',\n",
       " '10/14/2014 12:11:00 PM',\n",
       " '10/14/2014 11:58:00 AM',\n",
       " '10/14/2014 12:11:00 PM',\n",
       " '10/14/2014 12:00:00 PM',\n",
       " '10/14/2014 12:26:00 PM',\n",
       " '10/14/2014 12:13:00 PM',\n",
       " '10/14/2014 12:11:00 PM',\n",
       " '10/14/2014 12:11:00 PM',\n",
       " '10/14/2014 12:11:00 PM',\n",
       " '10/14/2014 12:10:00 PM',\n",
       " '10/14/2014 12:11:00 PM',\n",
       " '10/14/2014 12:17:00 PM',\n",
       " '10/14/2014 12:21:00 PM',\n",
       " '10/14/2014 12:54:00 PM',\n",
       " '10/14/2014 12:45:00 PM',\n",
       " '10/14/2014 01:17:00 PM',\n",
       " '10/14/2014 12:21:00 PM',\n",
       " '10/14/2014 12:26:00 PM',\n",
       " '10/14/2014 12:44:00 PM',\n",
       " '10/14/2014 12:29:00 PM',\n",
       " '10/14/2014 12:30:00 PM',\n",
       " '10/14/2014 12:29:00 PM',\n",
       " '10/14/2014 12:37:00 PM',\n",
       " '10/14/2014 12:54:00 PM',\n",
       " '10/14/2014 12:38:00 PM',\n",
       " '10/14/2014 12:54:00 PM',\n",
       " '10/14/2014 12:35:00 PM',\n",
       " '10/14/2014 12:41:00 PM',\n",
       " '10/14/2014 12:34:00 PM',\n",
       " '10/14/2014 12:46:00 PM',\n",
       " '10/14/2014 12:49:00 PM',\n",
       " '10/14/2014 01:09:00 PM',\n",
       " '10/14/2014 12:40:00 PM',\n",
       " '10/14/2014 12:44:00 PM',\n",
       " '10/14/2014 01:09:00 PM',\n",
       " '10/14/2014 12:52:00 PM',\n",
       " '10/14/2014 12:55:00 PM',\n",
       " '10/14/2014 12:58:00 PM',\n",
       " '10/14/2014 12:58:00 PM',\n",
       " '10/14/2014 12:55:00 PM',\n",
       " '10/14/2014 12:54:00 PM',\n",
       " '10/14/2014 12:58:00 PM',\n",
       " '10/14/2014 01:02:00 PM',\n",
       " '10/14/2014 01:01:00 PM',\n",
       " '10/14/2014 12:59:00 PM',\n",
       " '10/14/2014 12:59:00 PM',\n",
       " '10/14/2014 01:10:00 PM',\n",
       " '10/14/2014 01:11:00 PM',\n",
       " '10/14/2014 01:01:00 PM',\n",
       " '10/14/2014 01:10:00 PM',\n",
       " '10/14/2014 02:05:00 PM',\n",
       " '10/14/2014 01:09:00 PM',\n",
       " '10/14/2014 01:31:00 PM',\n",
       " '10/14/2014 01:22:00 PM',\n",
       " '10/14/2014 01:38:00 PM',\n",
       " '10/14/2014 01:10:00 PM',\n",
       " '10/14/2014 01:20:00 PM',\n",
       " '10/14/2014 01:10:00 PM',\n",
       " '10/14/2014 01:10:00 PM',\n",
       " '10/14/2014 01:16:00 PM',\n",
       " '10/14/2014 01:17:00 PM',\n",
       " '10/14/2014 01:19:00 PM',\n",
       " '10/14/2014 01:17:00 PM',\n",
       " '10/14/2014 01:27:00 PM',\n",
       " '10/14/2014 01:30:00 PM',\n",
       " '10/14/2014 01:29:00 PM',\n",
       " '10/14/2014 01:23:00 PM',\n",
       " '10/14/2014 01:26:00 PM',\n",
       " '10/14/2014 01:30:00 PM',\n",
       " '10/14/2014 01:30:00 PM',\n",
       " '10/14/2014 01:26:00 PM',\n",
       " '10/14/2014 01:26:00 PM',\n",
       " '10/14/2014 01:25:00 PM',\n",
       " '10/14/2014 01:30:00 PM',\n",
       " '10/14/2014 01:25:00 PM',\n",
       " '10/14/2014 01:38:00 PM',\n",
       " '10/14/2014 01:42:00 PM',\n",
       " '10/14/2014 01:33:00 PM',\n",
       " '10/14/2014 01:29:00 PM',\n",
       " '10/14/2014 01:39:00 PM',\n",
       " '10/14/2014 02:15:00 PM',\n",
       " '10/14/2014 01:43:00 PM',\n",
       " '10/14/2014 01:41:00 PM',\n",
       " '10/14/2014 01:40:00 PM',\n",
       " '10/14/2014 01:43:00 PM',\n",
       " '10/14/2014 01:43:00 PM',\n",
       " '10/14/2014 03:52:00 PM',\n",
       " '10/14/2014 01:42:00 PM',\n",
       " '10/14/2014 01:56:00 PM',\n",
       " '10/14/2014 01:53:00 PM',\n",
       " '10/14/2014 01:41:00 PM',\n",
       " '10/14/2014 01:53:00 PM',\n",
       " '10/14/2014 01:55:00 PM',\n",
       " '10/14/2014 01:51:00 PM',\n",
       " '10/14/2014 02:10:00 PM',\n",
       " '10/14/2014 01:43:00 PM',\n",
       " '10/14/2014 01:44:00 PM',\n",
       " '10/14/2014 01:54:00 PM',\n",
       " '10/14/2014 01:54:00 PM',\n",
       " '10/14/2014 01:56:00 PM',\n",
       " '10/14/2014 02:27:00 PM',\n",
       " '10/14/2014 02:09:00 PM',\n",
       " '10/14/2014 02:30:00 PM',\n",
       " '10/14/2014 02:29:00 PM',\n",
       " '10/14/2014 02:10:00 PM',\n",
       " '10/14/2014 02:38:00 PM',\n",
       " '10/14/2014 02:18:00 PM',\n",
       " '10/14/2014 02:38:00 PM',\n",
       " '10/14/2014 02:16:00 PM',\n",
       " '10/14/2014 02:22:00 PM',\n",
       " '10/14/2014 02:26:00 PM',\n",
       " '10/14/2014 02:32:00 PM',\n",
       " '10/14/2014 03:51:00 PM',\n",
       " '10/14/2014 02:22:00 PM',\n",
       " '10/14/2014 02:35:00 PM',\n",
       " '10/14/2014 02:40:00 PM',\n",
       " '10/14/2014 02:31:00 PM',\n",
       " '10/14/2014 02:36:00 PM',\n",
       " '10/14/2014 02:38:00 PM',\n",
       " '10/14/2014 02:52:00 PM',\n",
       " '10/14/2014 02:54:00 PM',\n",
       " '10/14/2014 02:52:00 PM',\n",
       " '10/14/2014 03:01:00 PM',\n",
       " '10/14/2014 03:00:00 PM',\n",
       " '10/14/2014 03:09:00 PM',\n",
       " '10/14/2014 03:09:00 PM',\n",
       " '10/14/2014 02:57:00 PM',\n",
       " '10/14/2014 02:57:00 PM',\n",
       " '10/14/2014 03:03:00 PM',\n",
       " '10/14/2014 03:06:00 PM',\n",
       " '10/14/2014 03:10:00 PM',\n",
       " '10/14/2014 03:17:00 PM',\n",
       " '10/14/2014 03:17:00 PM',\n",
       " '10/14/2014 03:20:00 PM',\n",
       " '10/14/2014 03:21:00 PM',\n",
       " '10/14/2014 03:32:00 PM',\n",
       " '10/14/2014 03:42:00 PM',\n",
       " '10/14/2014 03:42:00 PM',\n",
       " '10/14/2014 03:34:00 PM',\n",
       " '10/14/2014 03:46:00 PM',\n",
       " '10/14/2014 03:45:00 PM',\n",
       " '10/14/2014 03:47:00 PM',\n",
       " '10/14/2014 03:52:00 PM',\n",
       " '10/14/2014 03:46:00 PM',\n",
       " '10/14/2014 03:46:00 PM',\n",
       " '10/14/2014 03:48:00 PM',\n",
       " '10/14/2014 04:23:00 PM',\n",
       " '10/14/2014 03:49:00 PM',\n",
       " '10/14/2014 03:48:00 PM',\n",
       " '10/14/2014 06:41:00 PM',\n",
       " '10/14/2014 03:48:00 PM',\n",
       " '10/14/2014 04:50:00 PM',\n",
       " '10/14/2014 04:00:00 PM',\n",
       " '10/14/2014 04:25:00 PM',\n",
       " '10/14/2014 06:40:00 PM',\n",
       " '10/14/2014 04:24:00 PM',\n",
       " '10/14/2014 04:25:00 PM',\n",
       " '10/14/2014 04:00:00 PM',\n",
       " '10/14/2014 04:25:00 PM',\n",
       " '10/14/2014 04:25:00 PM',\n",
       " '10/14/2014 03:57:00 PM',\n",
       " '10/14/2014 04:09:00 PM',\n",
       " '10/14/2014 04:25:00 PM',\n",
       " '10/14/2014 04:21:00 PM',\n",
       " '10/14/2014 04:21:00 PM',\n",
       " '10/14/2014 04:27:00 PM',\n",
       " '10/14/2014 04:08:00 PM',\n",
       " '10/14/2014 04:14:00 PM',\n",
       " '10/14/2014 04:17:00 PM',\n",
       " '10/14/2014 04:16:00 PM',\n",
       " '10/14/2014 05:54:00 PM',\n",
       " '10/14/2014 04:20:00 PM',\n",
       " '10/14/2014 04:41:00 PM',\n",
       " '10/14/2014 04:41:00 PM',\n",
       " '10/14/2014 04:26:00 PM',\n",
       " '10/14/2014 04:47:00 PM',\n",
       " '10/14/2014 04:39:00 PM',\n",
       " '10/14/2014 04:49:00 PM',\n",
       " '10/14/2014 04:40:00 PM',\n",
       " '10/14/2014 04:43:00 PM',\n",
       " '10/14/2014 04:46:00 PM',\n",
       " '10/14/2014 04:51:00 PM',\n",
       " '10/14/2014 04:52:00 PM',\n",
       " '10/14/2014 04:50:00 PM',\n",
       " '10/14/2014 04:50:00 PM',\n",
       " '10/14/2014 05:07:00 PM',\n",
       " '10/14/2014 05:18:00 PM',\n",
       " '10/14/2014 05:04:00 PM',\n",
       " '10/14/2014 05:01:00 PM',\n",
       " '10/14/2014 05:03:00 PM',\n",
       " '10/14/2014 04:58:00 PM',\n",
       " '10/14/2014 05:09:00 PM',\n",
       " '10/14/2014 05:08:00 PM',\n",
       " '10/14/2014 05:12:00 PM',\n",
       " '10/14/2014 05:11:00 PM',\n",
       " '10/14/2014 05:13:00 PM',\n",
       " '10/14/2014 05:07:00 PM',\n",
       " '10/14/2014 05:14:00 PM',\n",
       " '10/14/2014 05:21:00 PM',\n",
       " '10/14/2014 05:56:00 PM',\n",
       " '10/14/2014 05:25:00 PM',\n",
       " '10/14/2014 05:24:00 PM',\n",
       " '10/14/2014 05:18:00 PM',\n",
       " '10/14/2014 05:33:00 PM',\n",
       " '10/14/2014 05:26:00 PM',\n",
       " '10/14/2014 05:22:00 PM',\n",
       " '10/14/2014 05:34:00 PM',\n",
       " '10/14/2014 05:32:00 PM',\n",
       " '10/14/2014 06:55:00 PM',\n",
       " '10/14/2014 05:29:00 PM',\n",
       " '10/14/2014 05:24:00 PM',\n",
       " '10/14/2014 05:32:00 PM',\n",
       " '10/14/2014 05:30:00 PM',\n",
       " '10/14/2014 05:42:00 PM',\n",
       " '10/14/2014 05:41:00 PM',\n",
       " '10/14/2014 05:36:00 PM',\n",
       " '10/14/2014 05:37:00 PM',\n",
       " '10/14/2014 05:45:00 PM',\n",
       " '10/14/2014 05:49:00 PM',\n",
       " '10/14/2014 05:45:00 PM',\n",
       " '10/14/2014 05:44:00 PM',\n",
       " '10/14/2014 05:54:00 PM',\n",
       " '10/14/2014 05:51:00 PM',\n",
       " '10/14/2014 05:52:00 PM',\n",
       " '10/14/2014 05:47:00 PM',\n",
       " '10/14/2014 05:56:00 PM',\n",
       " '10/14/2014 05:48:00 PM',\n",
       " '10/14/2014 05:56:00 PM',\n",
       " '10/14/2014 05:56:00 PM',\n",
       " '10/14/2014 05:54:00 PM',\n",
       " '10/14/2014 05:54:00 PM',\n",
       " '10/14/2014 06:07:00 PM',\n",
       " '10/14/2014 06:10:00 PM',\n",
       " '10/14/2014 06:07:00 PM',\n",
       " '10/14/2014 06:02:00 PM',\n",
       " '10/14/2014 06:09:00 PM',\n",
       " '10/14/2014 06:04:00 PM',\n",
       " '10/14/2014 06:02:00 PM',\n",
       " '10/14/2014 07:03:00 PM',\n",
       " '10/14/2014 06:36:00 PM',\n",
       " '10/14/2014 06:06:00 PM',\n",
       " '10/14/2014 06:06:00 PM',\n",
       " '10/14/2014 06:09:00 PM',\n",
       " '10/14/2014 06:14:00 PM',\n",
       " '10/14/2014 07:04:00 PM',\n",
       " '10/14/2014 07:03:00 PM',\n",
       " '10/14/2014 06:10:00 PM',\n",
       " '10/14/2014 06:47:00 PM',\n",
       " '10/14/2014 06:24:00 PM',\n",
       " '10/14/2014 06:35:00 PM',\n",
       " '10/14/2014 06:35:00 PM',\n",
       " '10/14/2014 06:27:00 PM',\n",
       " '10/14/2014 06:27:00 PM',\n",
       " '10/14/2014 06:28:00 PM',\n",
       " '10/14/2014 06:26:00 PM',\n",
       " '10/14/2014 06:30:00 PM',\n",
       " '10/14/2014 06:29:00 PM',\n",
       " '10/14/2014 06:32:00 PM',\n",
       " '10/14/2014 06:35:00 PM',\n",
       " '10/14/2014 06:37:00 PM',\n",
       " '10/14/2014 06:30:00 PM',\n",
       " '10/14/2014 06:35:00 PM',\n",
       " '10/14/2014 06:29:00 PM',\n",
       " '10/14/2014 06:39:00 PM',\n",
       " '10/14/2014 06:34:00 PM',\n",
       " '10/14/2014 06:53:00 PM',\n",
       " '10/14/2014 06:44:00 PM',\n",
       " '10/14/2014 06:40:00 PM',\n",
       " '10/14/2014 07:09:00 PM',\n",
       " '10/14/2014 06:45:00 PM',\n",
       " '10/14/2014 06:51:00 PM',\n",
       " '10/14/2014 06:49:00 PM',\n",
       " '10/14/2014 06:52:00 PM',\n",
       " '10/14/2014 06:53:00 PM',\n",
       " '10/14/2014 06:55:00 PM',\n",
       " '10/14/2014 06:55:00 PM',\n",
       " '10/14/2014 07:02:00 PM',\n",
       " '10/14/2014 06:59:00 PM',\n",
       " '10/14/2014 06:59:00 PM',\n",
       " '10/14/2014 06:59:00 PM',\n",
       " '10/14/2014 07:03:00 PM',\n",
       " '10/14/2014 07:07:00 PM',\n",
       " '10/14/2014 07:05:00 PM',\n",
       " '10/14/2014 07:22:00 PM',\n",
       " '10/14/2014 07:12:00 PM',\n",
       " '10/14/2014 07:28:00 PM',\n",
       " '10/14/2014 07:28:00 PM',\n",
       " '10/14/2014 07:25:00 PM',\n",
       " '10/14/2014 07:16:00 PM',\n",
       " '10/14/2014 07:36:00 PM',\n",
       " '10/14/2014 07:24:00 PM',\n",
       " '10/14/2014 07:29:00 PM',\n",
       " '10/14/2014 07:47:00 PM',\n",
       " '10/14/2014 07:44:00 PM',\n",
       " '10/14/2014 07:44:00 PM',\n",
       " '10/14/2014 07:48:00 PM',\n",
       " '10/14/2014 07:48:00 PM',\n",
       " '10/14/2014 07:42:00 PM',\n",
       " '10/14/2014 07:45:00 PM',\n",
       " '10/14/2014 07:55:00 PM',\n",
       " '10/14/2014 07:48:00 PM',\n",
       " '10/14/2014 07:51:00 PM',\n",
       " '10/14/2014 08:26:00 PM',\n",
       " '10/14/2014 08:26:00 PM',\n",
       " '10/14/2014 07:51:00 PM',\n",
       " '10/14/2014 07:53:00 PM',\n",
       " '10/14/2014 09:27:00 PM',\n",
       " '10/14/2014 09:37:00 PM',\n",
       " '10/14/2014 09:26:00 PM',\n",
       " '10/14/2014 08:11:00 PM',\n",
       " '10/14/2014 08:36:00 PM',\n",
       " '10/14/2014 08:17:00 PM',\n",
       " '10/14/2014 08:36:00 PM',\n",
       " '10/14/2014 08:36:00 PM',\n",
       " '10/14/2014 08:14:00 PM',\n",
       " '10/14/2014 08:22:00 PM',\n",
       " '10/14/2014 08:22:00 PM',\n",
       " '10/14/2014 08:42:00 PM',\n",
       " '10/14/2014 08:32:00 PM',\n",
       " '10/14/2014 08:49:00 PM',\n",
       " '10/14/2014 09:39:00 PM',\n",
       " '10/14/2014 08:57:00 PM',\n",
       " '10/14/2014 09:01:00 PM',\n",
       " '10/14/2014 09:02:00 PM',\n",
       " '10/14/2014 09:04:00 PM',\n",
       " '10/14/2014 09:04:00 PM',\n",
       " '10/14/2014 09:08:00 PM',\n",
       " '10/14/2014 09:06:00 PM',\n",
       " '10/14/2014 09:16:00 PM',\n",
       " '10/14/2014 09:23:00 PM',\n",
       " '10/14/2014 09:19:00 PM',\n",
       " '10/14/2014 10:46:00 PM',\n",
       " '10/14/2014 09:26:00 PM',\n",
       " '10/14/2014 09:26:00 PM',\n",
       " '10/14/2014 09:33:00 PM',\n",
       " '10/14/2014 09:43:00 PM',\n",
       " '10/14/2014 09:46:00 PM',\n",
       " '10/14/2014 09:48:00 PM',\n",
       " '10/14/2014 10:02:00 PM',\n",
       " '10/14/2014 10:16:00 PM',\n",
       " '10/14/2014 10:30:00 PM',\n",
       " '10/14/2014 10:30:00 PM',\n",
       " '10/15/2014 04:29:00 AM',\n",
       " '10/15/2014 04:29:00 AM',\n",
       " '10/14/2014 10:50:00 PM',\n",
       " '10/14/2014 10:55:00 PM',\n",
       " '10/14/2014 11:20:00 PM',\n",
       " '10/15/2014 12:01:00 AM',\n",
       " '10/15/2014 12:18:00 AM',\n",
       " '10/15/2014 12:22:00 AM',\n",
       " '10/15/2014 12:53:00 AM',\n",
       " '10/15/2014 01:13:00 AM',\n",
       " '10/15/2014 01:59:00 AM',\n",
       " '10/15/2014 02:12:00 AM',\n",
       " '10/15/2014 06:16:00 AM',\n",
       " '10/15/2014 06:20:00 AM',\n",
       " '10/15/2014 06:47:00 AM',\n",
       " '10/15/2014 06:40:00 AM',\n",
       " '10/15/2014 06:44:00 AM',\n",
       " '10/15/2014 06:39:00 AM',\n",
       " '10/15/2014 06:47:00 AM',\n",
       " '10/15/2014 07:03:00 AM',\n",
       " '10/15/2014 07:21:00 AM',\n",
       " '10/15/2014 07:24:00 AM',\n",
       " '10/15/2014 07:22:00 AM',\n",
       " '10/15/2014 07:44:00 AM',\n",
       " '10/15/2014 07:49:00 AM',\n",
       " '10/15/2014 07:52:00 AM',\n",
       " '10/15/2014 08:01:00 AM',\n",
       " '10/15/2014 08:02:00 AM',\n",
       " '10/15/2014 08:15:00 AM',\n",
       " '10/15/2014 08:16:00 AM',\n",
       " '10/15/2014 08:13:00 AM',\n",
       " '10/15/2014 08:18:00 AM',\n",
       " '10/15/2014 08:19:00 AM',\n",
       " '10/15/2014 08:38:00 AM',\n",
       " '10/15/2014 08:35:00 AM',\n",
       " '10/15/2014 08:35:00 AM',\n",
       " '10/15/2014 08:47:00 AM',\n",
       " '10/15/2014 08:36:00 AM',\n",
       " '10/15/2014 08:52:00 AM',\n",
       " '10/15/2014 08:56:00 AM',\n",
       " '10/15/2014 09:16:00 AM',\n",
       " '10/15/2014 09:16:00 AM',\n",
       " '10/15/2014 09:09:00 AM',\n",
       " '10/15/2014 09:14:00 AM',\n",
       " '10/15/2014 09:26:00 AM',\n",
       " '10/15/2014 09:19:00 AM',\n",
       " '10/15/2014 09:23:00 AM',\n",
       " '10/15/2014 09:28:00 AM',\n",
       " '10/15/2014 09:31:00 AM',\n",
       " '10/15/2014 09:34:00 AM',\n",
       " '10/15/2014 09:27:00 AM',\n",
       " '10/15/2014 09:39:00 AM',\n",
       " '10/15/2014 09:29:00 AM',\n",
       " '10/15/2014 09:37:00 AM',\n",
       " '10/15/2014 09:30:00 AM',\n",
       " '10/15/2014 09:39:00 AM',\n",
       " '10/15/2014 09:57:00 AM',\n",
       " '10/15/2014 09:54:00 AM',\n",
       " '10/15/2014 10:01:00 AM',\n",
       " '10/15/2014 09:57:00 AM',\n",
       " '10/15/2014 09:58:00 AM',\n",
       " '10/15/2014 10:09:00 AM',\n",
       " '10/15/2014 10:15:00 AM',\n",
       " '10/15/2014 10:22:00 AM',\n",
       " '10/15/2014 10:08:00 AM',\n",
       " '10/15/2014 10:13:00 AM',\n",
       " '10/15/2014 10:15:00 AM',\n",
       " '10/15/2014 10:41:00 AM',\n",
       " '10/15/2014 10:28:00 AM',\n",
       " '10/15/2014 10:33:00 AM',\n",
       " '10/15/2014 10:38:00 AM',\n",
       " '10/15/2014 10:34:00 AM',\n",
       " '10/15/2014 10:42:00 AM',\n",
       " '10/15/2014 10:37:00 AM',\n",
       " '10/15/2014 11:06:00 AM',\n",
       " '10/15/2014 11:06:00 AM',\n",
       " '10/15/2014 10:49:00 AM',\n",
       " '10/15/2014 10:52:00 AM',\n",
       " '10/15/2014 10:53:00 AM',\n",
       " '10/15/2014 11:11:00 AM',\n",
       " '10/15/2014 11:03:00 AM',\n",
       " '10/15/2014 11:05:00 AM',\n",
       " '10/15/2014 11:03:00 AM',\n",
       " '10/15/2014 11:03:00 AM',\n",
       " '10/15/2014 11:05:00 AM',\n",
       " '10/15/2014 11:07:00 AM',\n",
       " '10/15/2014 11:24:00 AM',\n",
       " '10/15/2014 11:29:00 AM',\n",
       " '10/15/2014 11:32:00 AM',\n",
       " '10/15/2014 11:21:00 AM',\n",
       " '10/15/2014 11:42:00 AM',\n",
       " '10/15/2014 11:34:00 AM',\n",
       " '10/15/2014 11:42:00 AM',\n",
       " '10/15/2014 11:53:00 AM',\n",
       " '10/15/2014 11:44:00 AM',\n",
       " '10/15/2014 12:01:00 PM',\n",
       " '10/15/2014 11:52:00 AM',\n",
       " '10/15/2014 12:05:00 PM',\n",
       " '10/15/2014 12:05:00 PM',\n",
       " '10/15/2014 12:40:00 PM',\n",
       " '10/15/2014 12:40:00 PM',\n",
       " '10/15/2014 12:52:00 PM',\n",
       " '10/15/2014 12:34:00 PM',\n",
       " '10/15/2014 12:32:00 PM',\n",
       " '10/15/2014 12:38:00 PM',\n",
       " '10/15/2014 12:53:00 PM',\n",
       " ...]"
      ]
     },
     "execution_count": 118,
     "metadata": {},
     "output_type": "execute_result"
    }
   ],
   "source": [
    "df_small.tolist()"
   ]
  },
  {
   "cell_type": "markdown",
   "metadata": {},
   "source": [
    "Mathematical operations on columns happen *element-wise*:"
   ]
  },
  {
   "cell_type": "code",
   "execution_count": 119,
   "metadata": {},
   "outputs": [
    {
     "data": {
      "text/plain": [
       "0    0.273871\n",
       "1    0.257326\n",
       "2    0.245509\n",
       "Name: tripduration, dtype: float64"
      ]
     },
     "execution_count": 119,
     "metadata": {},
     "output_type": "execute_result"
    }
   ],
   "source": [
    "trip_duration_hours = df['tripduration']/3600\n",
    "trip_duration_hours[:3]"
   ]
  },
  {
   "cell_type": "code",
   "execution_count": 120,
   "metadata": {},
   "outputs": [],
   "source": [
    "df['trip_duration_hours'] = df['tripduration']/3600"
   ]
  },
  {
   "cell_type": "code",
   "execution_count": 121,
   "metadata": {},
   "outputs": [],
   "source": [
    "del df['trip_duration_hours']"
   ]
  },
  {
   "cell_type": "code",
   "execution_count": 122,
   "metadata": {},
   "outputs": [
    {
     "data": {
      "text/html": [
       "<div>\n",
       "<style scoped>\n",
       "    .dataframe tbody tr th:only-of-type {\n",
       "        vertical-align: middle;\n",
       "    }\n",
       "\n",
       "    .dataframe tbody tr th {\n",
       "        vertical-align: top;\n",
       "    }\n",
       "\n",
       "    .dataframe thead th {\n",
       "        text-align: right;\n",
       "    }\n",
       "</style>\n",
       "<table border=\"1\" class=\"dataframe\">\n",
       "  <thead>\n",
       "    <tr style=\"text-align: right;\">\n",
       "      <th></th>\n",
       "      <th>trip_id</th>\n",
       "      <th>starttime</th>\n",
       "      <th>stoptime</th>\n",
       "      <th>bikeid</th>\n",
       "      <th>tripduration</th>\n",
       "      <th>from_station_name</th>\n",
       "      <th>to_station_name</th>\n",
       "      <th>from_station_id</th>\n",
       "      <th>to_station_id</th>\n",
       "      <th>usertype</th>\n",
       "      <th>gender</th>\n",
       "      <th>birthyear</th>\n",
       "    </tr>\n",
       "  </thead>\n",
       "  <tbody>\n",
       "    <tr>\n",
       "      <th>0</th>\n",
       "      <td>431</td>\n",
       "      <td>10/13/2014 10:31:00 AM</td>\n",
       "      <td>10/13/2014 10:48:00 AM</td>\n",
       "      <td>SEA00298</td>\n",
       "      <td>985.935</td>\n",
       "      <td>2nd Ave &amp; Spring St</td>\n",
       "      <td>Occidental Park / Occidental Ave S &amp; S Washing...</td>\n",
       "      <td>CBD-06</td>\n",
       "      <td>PS-04</td>\n",
       "      <td>Member</td>\n",
       "      <td>Male</td>\n",
       "      <td>1960.0</td>\n",
       "    </tr>\n",
       "    <tr>\n",
       "      <th>1</th>\n",
       "      <td>432</td>\n",
       "      <td>10/13/2014 10:32:00 AM</td>\n",
       "      <td>10/13/2014 10:48:00 AM</td>\n",
       "      <td>SEA00195</td>\n",
       "      <td>926.375</td>\n",
       "      <td>2nd Ave &amp; Spring St</td>\n",
       "      <td>Occidental Park / Occidental Ave S &amp; S Washing...</td>\n",
       "      <td>CBD-06</td>\n",
       "      <td>PS-04</td>\n",
       "      <td>Member</td>\n",
       "      <td>Male</td>\n",
       "      <td>1970.0</td>\n",
       "    </tr>\n",
       "    <tr>\n",
       "      <th>2</th>\n",
       "      <td>433</td>\n",
       "      <td>10/13/2014 10:33:00 AM</td>\n",
       "      <td>10/13/2014 10:48:00 AM</td>\n",
       "      <td>SEA00486</td>\n",
       "      <td>883.831</td>\n",
       "      <td>2nd Ave &amp; Spring St</td>\n",
       "      <td>Occidental Park / Occidental Ave S &amp; S Washing...</td>\n",
       "      <td>CBD-06</td>\n",
       "      <td>PS-04</td>\n",
       "      <td>Member</td>\n",
       "      <td>Female</td>\n",
       "      <td>1988.0</td>\n",
       "    </tr>\n",
       "    <tr>\n",
       "      <th>3</th>\n",
       "      <td>434</td>\n",
       "      <td>10/13/2014 10:34:00 AM</td>\n",
       "      <td>10/13/2014 10:48:00 AM</td>\n",
       "      <td>SEA00333</td>\n",
       "      <td>865.937</td>\n",
       "      <td>2nd Ave &amp; Spring St</td>\n",
       "      <td>Occidental Park / Occidental Ave S &amp; S Washing...</td>\n",
       "      <td>CBD-06</td>\n",
       "      <td>PS-04</td>\n",
       "      <td>Member</td>\n",
       "      <td>Female</td>\n",
       "      <td>1977.0</td>\n",
       "    </tr>\n",
       "    <tr>\n",
       "      <th>4</th>\n",
       "      <td>435</td>\n",
       "      <td>10/13/2014 10:34:00 AM</td>\n",
       "      <td>10/13/2014 10:49:00 AM</td>\n",
       "      <td>SEA00202</td>\n",
       "      <td>923.923</td>\n",
       "      <td>2nd Ave &amp; Spring St</td>\n",
       "      <td>Occidental Park / Occidental Ave S &amp; S Washing...</td>\n",
       "      <td>CBD-06</td>\n",
       "      <td>PS-04</td>\n",
       "      <td>Member</td>\n",
       "      <td>Male</td>\n",
       "      <td>1971.0</td>\n",
       "    </tr>\n",
       "  </tbody>\n",
       "</table>\n",
       "</div>"
      ],
      "text/plain": [
       "   trip_id               starttime                stoptime    bikeid  \\\n",
       "0      431  10/13/2014 10:31:00 AM  10/13/2014 10:48:00 AM  SEA00298   \n",
       "1      432  10/13/2014 10:32:00 AM  10/13/2014 10:48:00 AM  SEA00195   \n",
       "2      433  10/13/2014 10:33:00 AM  10/13/2014 10:48:00 AM  SEA00486   \n",
       "3      434  10/13/2014 10:34:00 AM  10/13/2014 10:48:00 AM  SEA00333   \n",
       "4      435  10/13/2014 10:34:00 AM  10/13/2014 10:49:00 AM  SEA00202   \n",
       "\n",
       "   tripduration    from_station_name  \\\n",
       "0       985.935  2nd Ave & Spring St   \n",
       "1       926.375  2nd Ave & Spring St   \n",
       "2       883.831  2nd Ave & Spring St   \n",
       "3       865.937  2nd Ave & Spring St   \n",
       "4       923.923  2nd Ave & Spring St   \n",
       "\n",
       "                                     to_station_name from_station_id  \\\n",
       "0  Occidental Park / Occidental Ave S & S Washing...          CBD-06   \n",
       "1  Occidental Park / Occidental Ave S & S Washing...          CBD-06   \n",
       "2  Occidental Park / Occidental Ave S & S Washing...          CBD-06   \n",
       "3  Occidental Park / Occidental Ave S & S Washing...          CBD-06   \n",
       "4  Occidental Park / Occidental Ave S & S Washing...          CBD-06   \n",
       "\n",
       "  to_station_id usertype  gender  birthyear  \n",
       "0         PS-04   Member    Male     1960.0  \n",
       "1         PS-04   Member    Male     1970.0  \n",
       "2         PS-04   Member  Female     1988.0  \n",
       "3         PS-04   Member  Female     1977.0  \n",
       "4         PS-04   Member    Male     1971.0  "
      ]
     },
     "execution_count": 122,
     "metadata": {},
     "output_type": "execute_result"
    }
   ],
   "source": [
    "df.head()"
   ]
  },
  {
   "cell_type": "code",
   "execution_count": 123,
   "metadata": {},
   "outputs": [
    {
     "data": {
      "text/html": [
       "<div>\n",
       "<style scoped>\n",
       "    .dataframe tbody tr th:only-of-type {\n",
       "        vertical-align: middle;\n",
       "    }\n",
       "\n",
       "    .dataframe tbody tr th {\n",
       "        vertical-align: top;\n",
       "    }\n",
       "\n",
       "    .dataframe thead th {\n",
       "        text-align: right;\n",
       "    }\n",
       "</style>\n",
       "<table border=\"1\" class=\"dataframe\">\n",
       "  <thead>\n",
       "    <tr style=\"text-align: right;\">\n",
       "      <th></th>\n",
       "      <th>trip_id</th>\n",
       "      <th>starttime</th>\n",
       "      <th>stoptime</th>\n",
       "      <th>bikeid</th>\n",
       "      <th>tripduration</th>\n",
       "      <th>from_station_name</th>\n",
       "      <th>to_station_name</th>\n",
       "      <th>from_station_id</th>\n",
       "      <th>to_station_id</th>\n",
       "      <th>usertype</th>\n",
       "      <th>gender</th>\n",
       "      <th>birthyear</th>\n",
       "    </tr>\n",
       "  </thead>\n",
       "  <tbody>\n",
       "    <tr>\n",
       "      <th>0</th>\n",
       "      <td>431</td>\n",
       "      <td>10/13/2014 10:31:00 AM</td>\n",
       "      <td>10/13/2014 10:48:00 AM</td>\n",
       "      <td>SEA00298</td>\n",
       "      <td>985.935</td>\n",
       "      <td>2nd Ave &amp; Spring St</td>\n",
       "      <td>Occidental Park / Occidental Ave S &amp; S Washing...</td>\n",
       "      <td>CBD-06</td>\n",
       "      <td>PS-04</td>\n",
       "      <td>Member</td>\n",
       "      <td>Male</td>\n",
       "      <td>1960.0</td>\n",
       "    </tr>\n",
       "    <tr>\n",
       "      <th>1</th>\n",
       "      <td>432</td>\n",
       "      <td>10/13/2014 10:32:00 AM</td>\n",
       "      <td>10/13/2014 10:48:00 AM</td>\n",
       "      <td>SEA00195</td>\n",
       "      <td>926.375</td>\n",
       "      <td>2nd Ave &amp; Spring St</td>\n",
       "      <td>Occidental Park / Occidental Ave S &amp; S Washing...</td>\n",
       "      <td>CBD-06</td>\n",
       "      <td>PS-04</td>\n",
       "      <td>Member</td>\n",
       "      <td>Male</td>\n",
       "      <td>1970.0</td>\n",
       "    </tr>\n",
       "  </tbody>\n",
       "</table>\n",
       "</div>"
      ],
      "text/plain": [
       "   trip_id               starttime                stoptime    bikeid  \\\n",
       "0      431  10/13/2014 10:31:00 AM  10/13/2014 10:48:00 AM  SEA00298   \n",
       "1      432  10/13/2014 10:32:00 AM  10/13/2014 10:48:00 AM  SEA00195   \n",
       "\n",
       "   tripduration    from_station_name  \\\n",
       "0       985.935  2nd Ave & Spring St   \n",
       "1       926.375  2nd Ave & Spring St   \n",
       "\n",
       "                                     to_station_name from_station_id  \\\n",
       "0  Occidental Park / Occidental Ave S & S Washing...          CBD-06   \n",
       "1  Occidental Park / Occidental Ave S & S Washing...          CBD-06   \n",
       "\n",
       "  to_station_id usertype gender  birthyear  \n",
       "0         PS-04   Member   Male     1960.0  \n",
       "1         PS-04   Member   Male     1970.0  "
      ]
     },
     "execution_count": 123,
     "metadata": {},
     "output_type": "execute_result"
    }
   ],
   "source": [
    "df.loc[[0,1],:]"
   ]
  },
  {
   "cell_type": "code",
   "execution_count": 124,
   "metadata": {},
   "outputs": [],
   "source": [
    "df_long_trips = df[df['tripduration'] >10000]"
   ]
  },
  {
   "cell_type": "code",
   "execution_count": 125,
   "metadata": {},
   "outputs": [],
   "source": [
    "sel = df['tripduration'] >10000 \n",
    "df_long_trips = df[sel]"
   ]
  },
  {
   "cell_type": "code",
   "execution_count": 126,
   "metadata": {},
   "outputs": [
    {
     "data": {
      "text/plain": [
       "275091"
      ]
     },
     "execution_count": 126,
     "metadata": {},
     "output_type": "execute_result"
    }
   ],
   "source": [
    "len(df)"
   ]
  },
  {
   "cell_type": "code",
   "execution_count": 127,
   "metadata": {},
   "outputs": [],
   "source": [
    "# Make a copy of a slice\n",
    "df_subset = df[['starttime', 'stoptime']].copy()\n",
    "df_subset['trip_hours'] = df['tripduration']/3600"
   ]
  },
  {
   "cell_type": "markdown",
   "metadata": {},
   "source": [
    "Columns can be created (or overwritten) with the assignment operator.\n",
    "Let's create a *tripminutes* column with the number of minutes for each trip"
   ]
  },
  {
   "cell_type": "markdown",
   "metadata": {},
   "source": [
    "More complicated mathematical operations can be done with tools in the ``numpy`` package:"
   ]
  },
  {
   "cell_type": "markdown",
   "metadata": {},
   "source": [
    "### Working with Times"
   ]
  },
  {
   "cell_type": "markdown",
   "metadata": {},
   "source": [
    "One trick to know when working with columns of times is that Pandas ``DateTimeIndex`` provides a nice interface for working with columns of times.\n",
    "\n",
    "For a dataset of this size, using ``pd.to_datetime`` and specifying the date format can make things much faster (from the [strftime reference](http://strftime.org/), we see that the pronto data has format ``\"%m/%d/%Y %I:%M:%S %p\"``"
   ]
  },
  {
   "cell_type": "markdown",
   "metadata": {},
   "source": [
    "(Note: you can also use ``infer_datetime_format=True`` in most cases to automatically infer the correct format, though due to a bug it doesn't work when AM/PM are present)"
   ]
  },
  {
   "cell_type": "markdown",
   "metadata": {},
   "source": [
    "With it, we can extract, the hour of the day, the day of the week, the month, and a wide range of other views of the time:"
   ]
  },
  {
   "cell_type": "markdown",
   "metadata": {},
   "source": [
    "### Simple Grouping of Data\n",
    "\n",
    "The real power of Pandas comes in its tools for grouping and aggregating data. Here we'll look at *value counts* and the basics of *group-by* operations."
   ]
  },
  {
   "cell_type": "markdown",
   "metadata": {},
   "source": [
    "#### Value Counts"
   ]
  },
  {
   "cell_type": "markdown",
   "metadata": {},
   "source": [
    "Pandas includes an array of useful functionality for manipulating and analyzing tabular data.\n",
    "We'll take a look at two of these here."
   ]
  },
  {
   "cell_type": "markdown",
   "metadata": {},
   "source": [
    "The ``pandas.value_counts`` returns statistics on the unique values within each column.\n",
    "\n",
    "We can use it, for example, to break down rides by gender:"
   ]
  },
  {
   "cell_type": "code",
   "execution_count": null,
   "metadata": {},
   "outputs": [],
   "source": [
    "#"
   ]
  },
  {
   "cell_type": "markdown",
   "metadata": {},
   "source": [
    "Or to break down rides by age:"
   ]
  },
  {
   "cell_type": "code",
   "execution_count": null,
   "metadata": {},
   "outputs": [],
   "source": [
    "#"
   ]
  },
  {
   "cell_type": "markdown",
   "metadata": {},
   "source": [
    "By default, the values rather than the index are sorted. Use ``sort=False`` to turn this behavior off:"
   ]
  },
  {
   "cell_type": "code",
   "execution_count": null,
   "metadata": {},
   "outputs": [],
   "source": [
    "#"
   ]
  },
  {
   "cell_type": "markdown",
   "metadata": {},
   "source": [
    "We can explore other things as well: day of week, hour of day, etc."
   ]
  },
  {
   "cell_type": "code",
   "execution_count": null,
   "metadata": {},
   "outputs": [],
   "source": [
    "#"
   ]
  },
  {
   "cell_type": "markdown",
   "metadata": {},
   "source": [
    "### Group-by Operation\n",
    "\n",
    "One of the killer features of the Pandas dataframe is the ability to do group-by operations.\n",
    "You can visualize the group-by like this (image borrowed from the [Python Data Science Handbook](http://shop.oreilly.com/product/0636920034919.do))"
   ]
  },
  {
   "cell_type": "code",
   "execution_count": 58,
   "metadata": {},
   "outputs": [
    {
     "data": {
      "text/html": [
       "<div>\n",
       "<style scoped>\n",
       "    .dataframe tbody tr th:only-of-type {\n",
       "        vertical-align: middle;\n",
       "    }\n",
       "\n",
       "    .dataframe tbody tr th {\n",
       "        vertical-align: top;\n",
       "    }\n",
       "\n",
       "    .dataframe thead th {\n",
       "        text-align: right;\n",
       "    }\n",
       "</style>\n",
       "<table border=\"1\" class=\"dataframe\">\n",
       "  <thead>\n",
       "    <tr style=\"text-align: right;\">\n",
       "      <th></th>\n",
       "      <th>trip_id</th>\n",
       "      <th>starttime</th>\n",
       "      <th>stoptime</th>\n",
       "      <th>bikeid</th>\n",
       "      <th>tripduration</th>\n",
       "      <th>from_station_name</th>\n",
       "      <th>to_station_name</th>\n",
       "      <th>from_station_id</th>\n",
       "      <th>to_station_id</th>\n",
       "      <th>usertype</th>\n",
       "      <th>gender</th>\n",
       "      <th>birthyear</th>\n",
       "    </tr>\n",
       "  </thead>\n",
       "  <tbody>\n",
       "    <tr>\n",
       "      <th>0</th>\n",
       "      <td>431</td>\n",
       "      <td>10/13/2014 10:31:00 AM</td>\n",
       "      <td>10/13/2014 10:48:00 AM</td>\n",
       "      <td>SEA00298</td>\n",
       "      <td>985.935</td>\n",
       "      <td>2nd Ave &amp; Spring St</td>\n",
       "      <td>Occidental Park / Occidental Ave S &amp; S Washing...</td>\n",
       "      <td>CBD-06</td>\n",
       "      <td>PS-04</td>\n",
       "      <td>Member</td>\n",
       "      <td>Male</td>\n",
       "      <td>1960.0</td>\n",
       "    </tr>\n",
       "    <tr>\n",
       "      <th>1</th>\n",
       "      <td>432</td>\n",
       "      <td>10/13/2014 10:32:00 AM</td>\n",
       "      <td>10/13/2014 10:48:00 AM</td>\n",
       "      <td>SEA00195</td>\n",
       "      <td>926.375</td>\n",
       "      <td>2nd Ave &amp; Spring St</td>\n",
       "      <td>Occidental Park / Occidental Ave S &amp; S Washing...</td>\n",
       "      <td>CBD-06</td>\n",
       "      <td>PS-04</td>\n",
       "      <td>Member</td>\n",
       "      <td>Male</td>\n",
       "      <td>1970.0</td>\n",
       "    </tr>\n",
       "    <tr>\n",
       "      <th>2</th>\n",
       "      <td>433</td>\n",
       "      <td>10/13/2014 10:33:00 AM</td>\n",
       "      <td>10/13/2014 10:48:00 AM</td>\n",
       "      <td>SEA00486</td>\n",
       "      <td>883.831</td>\n",
       "      <td>2nd Ave &amp; Spring St</td>\n",
       "      <td>Occidental Park / Occidental Ave S &amp; S Washing...</td>\n",
       "      <td>CBD-06</td>\n",
       "      <td>PS-04</td>\n",
       "      <td>Member</td>\n",
       "      <td>Female</td>\n",
       "      <td>1988.0</td>\n",
       "    </tr>\n",
       "    <tr>\n",
       "      <th>3</th>\n",
       "      <td>434</td>\n",
       "      <td>10/13/2014 10:34:00 AM</td>\n",
       "      <td>10/13/2014 10:48:00 AM</td>\n",
       "      <td>SEA00333</td>\n",
       "      <td>865.937</td>\n",
       "      <td>2nd Ave &amp; Spring St</td>\n",
       "      <td>Occidental Park / Occidental Ave S &amp; S Washing...</td>\n",
       "      <td>CBD-06</td>\n",
       "      <td>PS-04</td>\n",
       "      <td>Member</td>\n",
       "      <td>Female</td>\n",
       "      <td>1977.0</td>\n",
       "    </tr>\n",
       "    <tr>\n",
       "      <th>4</th>\n",
       "      <td>435</td>\n",
       "      <td>10/13/2014 10:34:00 AM</td>\n",
       "      <td>10/13/2014 10:49:00 AM</td>\n",
       "      <td>SEA00202</td>\n",
       "      <td>923.923</td>\n",
       "      <td>2nd Ave &amp; Spring St</td>\n",
       "      <td>Occidental Park / Occidental Ave S &amp; S Washing...</td>\n",
       "      <td>CBD-06</td>\n",
       "      <td>PS-04</td>\n",
       "      <td>Member</td>\n",
       "      <td>Male</td>\n",
       "      <td>1971.0</td>\n",
       "    </tr>\n",
       "  </tbody>\n",
       "</table>\n",
       "</div>"
      ],
      "text/plain": [
       "   trip_id               starttime                stoptime    bikeid  \\\n",
       "0      431  10/13/2014 10:31:00 AM  10/13/2014 10:48:00 AM  SEA00298   \n",
       "1      432  10/13/2014 10:32:00 AM  10/13/2014 10:48:00 AM  SEA00195   \n",
       "2      433  10/13/2014 10:33:00 AM  10/13/2014 10:48:00 AM  SEA00486   \n",
       "3      434  10/13/2014 10:34:00 AM  10/13/2014 10:48:00 AM  SEA00333   \n",
       "4      435  10/13/2014 10:34:00 AM  10/13/2014 10:49:00 AM  SEA00202   \n",
       "\n",
       "   tripduration    from_station_name  \\\n",
       "0       985.935  2nd Ave & Spring St   \n",
       "1       926.375  2nd Ave & Spring St   \n",
       "2       883.831  2nd Ave & Spring St   \n",
       "3       865.937  2nd Ave & Spring St   \n",
       "4       923.923  2nd Ave & Spring St   \n",
       "\n",
       "                                     to_station_name from_station_id  \\\n",
       "0  Occidental Park / Occidental Ave S & S Washing...          CBD-06   \n",
       "1  Occidental Park / Occidental Ave S & S Washing...          CBD-06   \n",
       "2  Occidental Park / Occidental Ave S & S Washing...          CBD-06   \n",
       "3  Occidental Park / Occidental Ave S & S Washing...          CBD-06   \n",
       "4  Occidental Park / Occidental Ave S & S Washing...          CBD-06   \n",
       "\n",
       "  to_station_id usertype  gender  birthyear  \n",
       "0         PS-04   Member    Male     1960.0  \n",
       "1         PS-04   Member    Male     1970.0  \n",
       "2         PS-04   Member  Female     1988.0  \n",
       "3         PS-04   Member  Female     1977.0  \n",
       "4         PS-04   Member    Male     1971.0  "
      ]
     },
     "execution_count": 58,
     "metadata": {},
     "output_type": "execute_result"
    }
   ],
   "source": [
    "df.head()"
   ]
  },
  {
   "cell_type": "code",
   "execution_count": 59,
   "metadata": {},
   "outputs": [
    {
     "data": {
      "text/html": [
       "<div>\n",
       "<style scoped>\n",
       "    .dataframe tbody tr th:only-of-type {\n",
       "        vertical-align: middle;\n",
       "    }\n",
       "\n",
       "    .dataframe tbody tr th {\n",
       "        vertical-align: top;\n",
       "    }\n",
       "\n",
       "    .dataframe thead th {\n",
       "        text-align: right;\n",
       "    }\n",
       "</style>\n",
       "<table border=\"1\" class=\"dataframe\">\n",
       "  <thead>\n",
       "    <tr style=\"text-align: right;\">\n",
       "      <th></th>\n",
       "      <th>trip_id</th>\n",
       "      <th>starttime</th>\n",
       "      <th>stoptime</th>\n",
       "      <th>bikeid</th>\n",
       "      <th>tripduration</th>\n",
       "      <th>from_station_name</th>\n",
       "      <th>to_station_name</th>\n",
       "      <th>to_station_id</th>\n",
       "      <th>usertype</th>\n",
       "      <th>gender</th>\n",
       "      <th>birthyear</th>\n",
       "    </tr>\n",
       "    <tr>\n",
       "      <th>from_station_id</th>\n",
       "      <th></th>\n",
       "      <th></th>\n",
       "      <th></th>\n",
       "      <th></th>\n",
       "      <th></th>\n",
       "      <th></th>\n",
       "      <th></th>\n",
       "      <th></th>\n",
       "      <th></th>\n",
       "      <th></th>\n",
       "      <th></th>\n",
       "    </tr>\n",
       "  </thead>\n",
       "  <tbody>\n",
       "    <tr>\n",
       "      <th>BT-01</th>\n",
       "      <td>10463</td>\n",
       "      <td>10463</td>\n",
       "      <td>10463</td>\n",
       "      <td>10463</td>\n",
       "      <td>10463</td>\n",
       "      <td>10463</td>\n",
       "      <td>10463</td>\n",
       "      <td>10463</td>\n",
       "      <td>10463</td>\n",
       "      <td>4162</td>\n",
       "      <td>4162</td>\n",
       "    </tr>\n",
       "    <tr>\n",
       "      <th>BT-03</th>\n",
       "      <td>7334</td>\n",
       "      <td>7334</td>\n",
       "      <td>7334</td>\n",
       "      <td>7334</td>\n",
       "      <td>7334</td>\n",
       "      <td>7334</td>\n",
       "      <td>7334</td>\n",
       "      <td>7334</td>\n",
       "      <td>7334</td>\n",
       "      <td>4862</td>\n",
       "      <td>4862</td>\n",
       "    </tr>\n",
       "    <tr>\n",
       "      <th>BT-04</th>\n",
       "      <td>4666</td>\n",
       "      <td>4666</td>\n",
       "      <td>4666</td>\n",
       "      <td>4666</td>\n",
       "      <td>4666</td>\n",
       "      <td>4666</td>\n",
       "      <td>4666</td>\n",
       "      <td>4666</td>\n",
       "      <td>4666</td>\n",
       "      <td>3424</td>\n",
       "      <td>3424</td>\n",
       "    </tr>\n",
       "    <tr>\n",
       "      <th>BT-05</th>\n",
       "      <td>5699</td>\n",
       "      <td>5699</td>\n",
       "      <td>5699</td>\n",
       "      <td>5699</td>\n",
       "      <td>5699</td>\n",
       "      <td>5699</td>\n",
       "      <td>5699</td>\n",
       "      <td>5699</td>\n",
       "      <td>5699</td>\n",
       "      <td>2975</td>\n",
       "      <td>2975</td>\n",
       "    </tr>\n",
       "    <tr>\n",
       "      <th>BT-06</th>\n",
       "      <td>150</td>\n",
       "      <td>150</td>\n",
       "      <td>150</td>\n",
       "      <td>150</td>\n",
       "      <td>150</td>\n",
       "      <td>150</td>\n",
       "      <td>150</td>\n",
       "      <td>150</td>\n",
       "      <td>150</td>\n",
       "      <td>130</td>\n",
       "      <td>130</td>\n",
       "    </tr>\n",
       "  </tbody>\n",
       "</table>\n",
       "</div>"
      ],
      "text/plain": [
       "                 trip_id  starttime  stoptime  bikeid  tripduration  \\\n",
       "from_station_id                                                       \n",
       "BT-01              10463      10463     10463   10463         10463   \n",
       "BT-03               7334       7334      7334    7334          7334   \n",
       "BT-04               4666       4666      4666    4666          4666   \n",
       "BT-05               5699       5699      5699    5699          5699   \n",
       "BT-06                150        150       150     150           150   \n",
       "\n",
       "                 from_station_name  to_station_name  to_station_id  usertype  \\\n",
       "from_station_id                                                                \n",
       "BT-01                        10463            10463          10463     10463   \n",
       "BT-03                         7334             7334           7334      7334   \n",
       "BT-04                         4666             4666           4666      4666   \n",
       "BT-05                         5699             5699           5699      5699   \n",
       "BT-06                          150              150            150       150   \n",
       "\n",
       "                 gender  birthyear  \n",
       "from_station_id                     \n",
       "BT-01              4162       4162  \n",
       "BT-03              4862       4862  \n",
       "BT-04              3424       3424  \n",
       "BT-05              2975       2975  \n",
       "BT-06               130        130  "
      ]
     },
     "execution_count": 59,
     "metadata": {},
     "output_type": "execute_result"
    }
   ],
   "source": [
    "df_count = df.groupby(['from_station_id']).count()\n",
    "df_count.head()"
   ]
  },
  {
   "cell_type": "code",
   "execution_count": 60,
   "metadata": {},
   "outputs": [
    {
     "data": {
      "text/plain": [
       "pandas.core.series.Series"
      ]
     },
     "execution_count": 60,
     "metadata": {},
     "output_type": "execute_result"
    }
   ],
   "source": [
    "ser_count = df_count['trip_id']\n",
    "type(ser_count)"
   ]
  },
  {
   "cell_type": "code",
   "execution_count": 61,
   "metadata": {},
   "outputs": [
    {
     "data": {
      "text/plain": [
       "from_station_id\n",
       "BT-06       150\n",
       "UW-01       480\n",
       "WF-03       646\n",
       "UW-12       689\n",
       "CD-01       958\n",
       "SLU-21     1114\n",
       "UW-10      1175\n",
       "UW-11      1237\n",
       "UD-02      1417\n",
       "DPD-03     1423\n",
       "SLU-22     1748\n",
       "UW-07      1905\n",
       "UW-02      2002\n",
       "CH-16      2089\n",
       "FH-01      2349\n",
       "UW-06      2383\n",
       "UD-07      2429\n",
       "SLU-20     2452\n",
       "ID-04      2474\n",
       "UW-04      2688\n",
       "CBD-07     3263\n",
       "EL-05      3400\n",
       "CBD-04     3440\n",
       "SLU-18     3461\n",
       "UD-04      3534\n",
       "EL-01      3604\n",
       "CH-06      3765\n",
       "UD-01      3889\n",
       "PS-05      3969\n",
       "FH-04      4208\n",
       "BT-04      4666\n",
       "CBD-03     4822\n",
       "DPD-01     4822\n",
       "CBD-06     4911\n",
       "SLU-16     5045\n",
       "CBD-05     5068\n",
       "SLU-04     5226\n",
       "CH-09      5246\n",
       "PS-04      5409\n",
       "BT-05      5699\n",
       "SLU-23     5739\n",
       "EL-03      5788\n",
       "CH-12      5857\n",
       "CH-03      6218\n",
       "WF-04      6271\n",
       "SLU-07     6339\n",
       "CH-01      6409\n",
       "CH-15      6550\n",
       "CH-05      6948\n",
       "SLU-02     7018\n",
       "SLU-01     7084\n",
       "SLU-19     7285\n",
       "BT-03      7334\n",
       "CH-02      8546\n",
       "CH-08      8573\n",
       "CBD-13     9067\n",
       "SLU-15     9741\n",
       "BT-01     10463\n",
       "CH-07     11568\n",
       "WF-01     13038\n",
       "Name: trip_id, dtype: int64"
      ]
     },
     "execution_count": 61,
     "metadata": {},
     "output_type": "execute_result"
    }
   ],
   "source": [
    "ser_count.sort_values()"
   ]
  },
  {
   "cell_type": "code",
   "execution_count": 62,
   "metadata": {},
   "outputs": [
    {
     "data": {
      "text/plain": [
       "from_station_id\n",
       "BT-01    10463\n",
       "BT-03     7334\n",
       "BT-04     4666\n",
       "BT-05     5699\n",
       "BT-06      150\n",
       "dtype: int64"
      ]
     },
     "execution_count": 62,
     "metadata": {},
     "output_type": "execute_result"
    }
   ],
   "source": [
    "df_count1 = df_count['trip_id']\n",
    "df_count2 = df_count1.rename(columns={'trip_id': 'count'})\n",
    "df_count2['new'] = 1\n",
    "df_count2.head()"
   ]
  },
  {
   "cell_type": "code",
   "execution_count": 63,
   "metadata": {},
   "outputs": [
    {
     "data": {
      "text/html": [
       "<div>\n",
       "<style scoped>\n",
       "    .dataframe tbody tr th:only-of-type {\n",
       "        vertical-align: middle;\n",
       "    }\n",
       "\n",
       "    .dataframe tbody tr th {\n",
       "        vertical-align: top;\n",
       "    }\n",
       "\n",
       "    .dataframe thead th {\n",
       "        text-align: right;\n",
       "    }\n",
       "</style>\n",
       "<table border=\"1\" class=\"dataframe\">\n",
       "  <thead>\n",
       "    <tr style=\"text-align: right;\">\n",
       "      <th></th>\n",
       "      <th>trip_id</th>\n",
       "      <th>tripduration</th>\n",
       "      <th>birthyear</th>\n",
       "    </tr>\n",
       "    <tr>\n",
       "      <th>from_station_id</th>\n",
       "      <th></th>\n",
       "      <th></th>\n",
       "      <th></th>\n",
       "    </tr>\n",
       "  </thead>\n",
       "  <tbody>\n",
       "    <tr>\n",
       "      <th>BT-01</th>\n",
       "      <td>147831.009844</td>\n",
       "      <td>1375.031203</td>\n",
       "      <td>1980.131427</td>\n",
       "    </tr>\n",
       "    <tr>\n",
       "      <th>BT-03</th>\n",
       "      <td>139404.294655</td>\n",
       "      <td>1019.200684</td>\n",
       "      <td>1976.505142</td>\n",
       "    </tr>\n",
       "    <tr>\n",
       "      <th>BT-04</th>\n",
       "      <td>157992.809687</td>\n",
       "      <td>891.095897</td>\n",
       "      <td>1979.877044</td>\n",
       "    </tr>\n",
       "    <tr>\n",
       "      <th>BT-05</th>\n",
       "      <td>139283.572381</td>\n",
       "      <td>1199.949481</td>\n",
       "      <td>1975.937479</td>\n",
       "    </tr>\n",
       "    <tr>\n",
       "      <th>BT-06</th>\n",
       "      <td>291807.953333</td>\n",
       "      <td>659.770547</td>\n",
       "      <td>1975.830769</td>\n",
       "    </tr>\n",
       "  </tbody>\n",
       "</table>\n",
       "</div>"
      ],
      "text/plain": [
       "                       trip_id  tripduration    birthyear\n",
       "from_station_id                                          \n",
       "BT-01            147831.009844   1375.031203  1980.131427\n",
       "BT-03            139404.294655   1019.200684  1976.505142\n",
       "BT-04            157992.809687    891.095897  1979.877044\n",
       "BT-05            139283.572381   1199.949481  1975.937479\n",
       "BT-06            291807.953333    659.770547  1975.830769"
      ]
     },
     "execution_count": 63,
     "metadata": {},
     "output_type": "execute_result"
    }
   ],
   "source": [
    "df_mean = df.groupby(['from_station_id']).mean()\n",
    "df_mean.head()"
   ]
  },
  {
   "cell_type": "code",
   "execution_count": 64,
   "metadata": {},
   "outputs": [
    {
     "data": {
      "text/plain": [
       "{'BT-01': Int64Index([   217,    227,    228,    282,    283,    310,    326,    327,\n",
       "                329,    331,\n",
       "             ...\n",
       "             274971, 274973, 274974, 274975, 274976, 274979, 275032, 275033,\n",
       "             275075, 275076],\n",
       "            dtype='int64', length=10463),\n",
       " 'BT-03': Int64Index([    87,     88,    230,    261,    366,    407,    414,    439,\n",
       "                453,    754,\n",
       "             ...\n",
       "             268122, 268181, 268307, 268318, 268319, 268391, 268392, 268467,\n",
       "             268527, 268528],\n",
       "            dtype='int64', length=7334),\n",
       " 'BT-04': Int64Index([    66,     67,     94,    104,    108,    166,    233,    259,\n",
       "                322,    333,\n",
       "             ...\n",
       "             274350, 274361, 274424, 274704, 274789, 274970, 275009, 275064,\n",
       "             275065, 275083],\n",
       "            dtype='int64', length=4666),\n",
       " 'BT-05': Int64Index([   110,    413,    426,    513,    585,    618,    744,    753,\n",
       "                795,   1003,\n",
       "             ...\n",
       "             274547, 274605, 274610, 274621, 274817, 274847, 274910, 274911,\n",
       "             275029, 275034],\n",
       "            dtype='int64', length=5699),\n",
       " 'BT-06': Int64Index([268581, 268642, 268667, 268718, 268735, 268781, 268897, 268903,\n",
       "             268914, 268961,\n",
       "             ...\n",
       "             274777, 274778, 274865, 274931, 274937, 274949, 274951, 274956,\n",
       "             274962, 274965],\n",
       "            dtype='int64', length=150),\n",
       " 'CBD-03': Int64Index([   118,    119,    164,    229,    275,    285,    328,    339,\n",
       "                356,    357,\n",
       "             ...\n",
       "             274574, 274594, 274599, 274622, 274672, 274743, 274774, 274810,\n",
       "             274915, 275053],\n",
       "            dtype='int64', length=4822),\n",
       " 'CBD-04': Int64Index([105392, 105458, 105467, 105472, 105614, 105615, 105835, 105836,\n",
       "             105855, 105858,\n",
       "             ...\n",
       "             274730, 274922, 274924, 274925, 274926, 274927, 274952, 274958,\n",
       "             274983, 275080],\n",
       "            dtype='int64', length=3440),\n",
       " 'CBD-05': Int64Index([    54,     79,     95,    148,    149,    150,    151,    165,\n",
       "                211,    219,\n",
       "             ...\n",
       "             274081, 274085, 274086, 274138, 274139, 274623, 274624, 274692,\n",
       "             274814, 274906],\n",
       "            dtype='int64', length=5068),\n",
       " 'CBD-06': Int64Index([     0,      1,      2,      3,      4,      5,     63,     68,\n",
       "                 70,     71,\n",
       "             ...\n",
       "             274534, 274544, 274570, 274671, 274744, 274765, 274797, 274836,\n",
       "             274838, 274980],\n",
       "            dtype='int64', length=4911),\n",
       " 'CBD-07': Int64Index([    42,     69,     78,    141,    196,    269,    478,    510,\n",
       "                522,    542,\n",
       "             ...\n",
       "             274317, 274413, 274439, 274467, 274579, 274673, 274688, 274752,\n",
       "             274879, 274907],\n",
       "            dtype='int64', length=3263),\n",
       " 'CBD-13': Int64Index([    99,    139,    198,    249,    276,    334,    381,    388,\n",
       "                424,    442,\n",
       "             ...\n",
       "             274444, 274535, 274555, 274613, 274726, 274780, 274903, 274916,\n",
       "             274966, 274968],\n",
       "            dtype='int64', length=9067),\n",
       " 'CD-01': Int64Index([ 68531,  68532,  69169,  69170,  69954,  70367,  70529,  70546,\n",
       "              70621,  70622,\n",
       "             ...\n",
       "             224878, 225305, 225422, 225427, 225492, 225493, 225587, 225666,\n",
       "             226277, 226597],\n",
       "            dtype='int64', length=958),\n",
       " 'CH-01': Int64Index([   256,    355,    382,    416,    437,    444,    502,    503,\n",
       "                600,    679,\n",
       "             ...\n",
       "             274585, 274632, 274641, 274656, 274670, 274827, 274829, 274871,\n",
       "             274933, 274995],\n",
       "            dtype='int64', length=6409),\n",
       " 'CH-02': Int64Index([    55,     56,     58,     83,    113,    126,    127,    154,\n",
       "                162,    163,\n",
       "             ...\n",
       "             274450, 274488, 274593, 274660, 274668, 274868, 274917, 275067,\n",
       "             275081, 275082],\n",
       "            dtype='int64', length=8546),\n",
       " 'CH-03': Int64Index([   290,    417,    428,    435,    436,    452,    494,    516,\n",
       "                640,    665,\n",
       "             ...\n",
       "             274625, 274650, 274658, 274693, 274822, 274844, 274872, 274893,\n",
       "             274894, 274950],\n",
       "            dtype='int64', length=6218),\n",
       " 'CH-05': Int64Index([   134,    195,    205,    248,    250,    251,    315,    324,\n",
       "                337,    390,\n",
       "             ...\n",
       "             274457, 274597, 274714, 274850, 274855, 274873, 274889, 274932,\n",
       "             274936, 274993],\n",
       "            dtype='int64', length=6948),\n",
       " 'CH-06': Int64Index([   212,    253,    277,    278,    279,    403,    449,    504,\n",
       "                684,    881,\n",
       "             ...\n",
       "             274679, 274745, 274746, 274750, 274751, 274781, 274788, 274834,\n",
       "             274839, 274875],\n",
       "            dtype='int64', length=3765),\n",
       " 'CH-07': Int64Index([   146,    210,    299,    341,    374,    377,    401,    415,\n",
       "                431,    466,\n",
       "             ...\n",
       "             274832, 274846, 274890, 274891, 274892, 274955, 275002, 275049,\n",
       "             275060, 275077],\n",
       "            dtype='int64', length=11568),\n",
       " 'CH-08': Int64Index([   120,    136,    144,    158,    159,    242,    262,    294,\n",
       "                311,    321,\n",
       "             ...\n",
       "             274824, 274848, 274853, 274904, 274905, 274935, 274943, 274982,\n",
       "             275006, 275090],\n",
       "            dtype='int64', length=8573),\n",
       " 'CH-09': Int64Index([   101,    168,    222,    349,    380,    467,    567,    578,\n",
       "                628,    647,\n",
       "             ...\n",
       "             274357, 274466, 274468, 274475, 274500, 274595, 274611, 274732,\n",
       "             274895, 275066],\n",
       "            dtype='int64', length=5246),\n",
       " 'CH-12': Int64Index([   319,    384,    411,    441,    451,    462,    540,    554,\n",
       "                558,    605,\n",
       "             ...\n",
       "             274577, 274603, 274609, 274615, 274631, 274680, 275050, 275056,\n",
       "             275088, 275089],\n",
       "            dtype='int64', length=5857),\n",
       " 'CH-15': Int64Index([   109,    160,    244,    340,    402,    430,    459,    468,\n",
       "                723,    724,\n",
       "             ...\n",
       "             274674, 274756, 274791, 274812, 274826, 274840, 274852, 274857,\n",
       "             274921, 274969],\n",
       "            dtype='int64', length=6550),\n",
       " 'CH-16': Int64Index([175075, 175093, 175108, 175126, 175127, 175131, 175136, 175144,\n",
       "             175145, 175210,\n",
       "             ...\n",
       "             274629, 274805, 274816, 274825, 274854, 274920, 275035, 275042,\n",
       "             275051, 275072],\n",
       "            dtype='int64', length=2089),\n",
       " 'DPD-01': Int64Index([    59,     91,     93,    289,    568,    644,    667,    740,\n",
       "                839,    974,\n",
       "             ...\n",
       "             274530, 274604, 274665, 274681, 274798, 274823, 274939, 274957,\n",
       "             274961, 275026],\n",
       "            dtype='int64', length=4822),\n",
       " 'DPD-03': Int64Index([   131,    197,    345,    347,    727,    844,   1075,   1144,\n",
       "               1347,   1430,\n",
       "             ...\n",
       "             273047, 273048, 274048, 274092, 274776, 274800, 275001, 275003,\n",
       "             275004, 275005],\n",
       "            dtype='int64', length=1423),\n",
       " 'EL-01': Int64Index([   199,    400,    700,    702,    715,    716,    769,   1175,\n",
       "               1350,   1351,\n",
       "             ...\n",
       "             274676, 274718, 274731, 274770, 274837, 274928, 274929, 274948,\n",
       "             274959, 275038],\n",
       "            dtype='int64', length=3604),\n",
       " 'EL-03': Int64Index([   344,    358,    360,    425,    492,    583,    927,   1027,\n",
       "               1071,   1110,\n",
       "             ...\n",
       "             274757, 274861, 274862, 274882, 274984, 274988, 274990, 274994,\n",
       "             275031, 275052],\n",
       "            dtype='int64', length=5788),\n",
       " 'EL-05': Int64Index([   200,    201,    447,    456,    488,    615,    646,    694,\n",
       "                763,    858,\n",
       "             ...\n",
       "             274019, 274157, 274162, 274253, 274368, 274477, 274584, 274725,\n",
       "             274877, 274878],\n",
       "            dtype='int64', length=3400),\n",
       " 'FH-01': Int64Index([   100,    231,    325,    330,    373,    386,    455,    485,\n",
       "                505,    521,\n",
       "             ...\n",
       "             173748, 173988, 174253, 174384, 174549, 174647, 174657, 174690,\n",
       "             174986, 175005],\n",
       "            dtype='int64', length=2349),\n",
       " 'FH-04': Int64Index([   364,    371,    392,    396,    460,    482,    529,    950,\n",
       "                970,    984,\n",
       "             ...\n",
       "             274428, 274519, 274600, 274640, 274646, 274648, 274849, 274851,\n",
       "             274964, 275000],\n",
       "            dtype='int64', length=4208),\n",
       " 'ID-04': Int64Index([    89,    123,    155,    156,    169,    170,    214,    223,\n",
       "                237,    309,\n",
       "             ...\n",
       "             274353, 274445, 274548, 274792, 274930, 275014, 275057, 275058,\n",
       "             275084, 275085],\n",
       "            dtype='int64', length=2474),\n",
       " 'PS-04': Int64Index([     6,      7,      8,      9,     10,     11,     12,     13,\n",
       "                 14,     15,\n",
       "             ...\n",
       "             274446, 274471, 274572, 274734, 274766, 274874, 274901, 274902,\n",
       "             274944, 275068],\n",
       "            dtype='int64', length=5409),\n",
       " 'PS-05': Int64Index([    45,     49,     53,     57,     90,    130,    202,    218,\n",
       "                246,    247,\n",
       "             ...\n",
       "             274633, 274634, 274635, 274666, 274820, 274828, 274978, 274987,\n",
       "             275022, 275073],\n",
       "            dtype='int64', length=3969),\n",
       " 'SLU-01': Int64Index([   111,    142,    143,    147,    152,    153,    220,    308,\n",
       "                312,    370,\n",
       "             ...\n",
       "             274686, 274722, 274768, 274769, 274883, 274884, 274997, 275041,\n",
       "             275059, 275071],\n",
       "            dtype='int64', length=7084),\n",
       " 'SLU-02': Int64Index([   137,    181,    296,    397,    427,    458,    464,    500,\n",
       "                530,    531,\n",
       "             ...\n",
       "             274678, 274684, 274687, 274747, 274753, 274833, 274835, 274885,\n",
       "             274899, 274991],\n",
       "            dtype='int64', length=7018),\n",
       " 'SLU-04': Int64Index([   213,    245,    273,    288,    291,    295,    316,    432,\n",
       "                589,    639,\n",
       "             ...\n",
       "             274185, 274309, 274311, 274415, 274493, 274711, 274887, 274941,\n",
       "             275027, 275048],\n",
       "            dtype='int64', length=5226),\n",
       " 'SLU-07': Int64Index([   368,    454,    551,    552,    575,    577,    633,    648,\n",
       "                735,    741,\n",
       "             ...\n",
       "             274607, 274608, 274647, 274715, 274716, 274771, 274845, 274898,\n",
       "             274946, 275040],\n",
       "            dtype='int64', length=6339),\n",
       " 'SLU-15': Int64Index([   102,    178,    232,    243,    284,    287,    292,    313,\n",
       "                318,    338,\n",
       "             ...\n",
       "             274808, 274863, 274897, 274923, 274953, 274967, 274985, 275036,\n",
       "             275037, 275061],\n",
       "            dtype='int64', length=9741),\n",
       " 'SLU-16': Int64Index([   391,    406,    420,    448,    486,    487,    532,    536,\n",
       "                537,    538,\n",
       "             ...\n",
       "             274099, 274103, 274296, 274442, 274602, 274720, 274763, 274764,\n",
       "             274867, 274896],\n",
       "            dtype='int64', length=5045),\n",
       " 'SLU-18': Int64Index([   103,    320,    359,    446,    544,    556,    565,    566,\n",
       "                591,    614,\n",
       "             ...\n",
       "             209477, 209600, 209625, 209663, 209671, 209907, 209917, 209918,\n",
       "             209929, 210002],\n",
       "            dtype='int64', length=3461),\n",
       " 'SLU-19': Int64Index([   129,    280,    304,    350,    351,    353,    354,    457,\n",
       "                493,    564,\n",
       "             ...\n",
       "             274407, 274512, 274590, 274651, 274701, 274702, 274703, 274841,\n",
       "             274963, 275062],\n",
       "            dtype='int64', length=7285),\n",
       " 'SLU-20': Int64Index([ 79307,  79441,  79473,  79584,  79657,  79658,  79659,  79864,\n",
       "              79868,  79994,\n",
       "             ...\n",
       "             273606, 274539, 274540, 274561, 274606, 274758, 274806, 274807,\n",
       "             274918, 275039],\n",
       "            dtype='int64', length=2452),\n",
       " 'SLU-21': Int64Index([133364, 133365, 133388, 133620, 133621, 133744, 133745, 134178,\n",
       "             134179, 135016,\n",
       "             ...\n",
       "             274136, 274193, 274497, 274612, 274698, 274801, 274960, 275030,\n",
       "             275043, 275074],\n",
       "            dtype='int64', length=1114),\n",
       " 'SLU-22': Int64Index([210885, 210897, 210898, 210899, 210913, 210918, 211084, 211085,\n",
       "             211264, 211318,\n",
       "             ...\n",
       "             274525, 274652, 274669, 274683, 274699, 274772, 274803, 274804,\n",
       "             274842, 274866],\n",
       "            dtype='int64', length=1748),\n",
       " 'SLU-23': Int64Index([   192,    206,    224,    225,    226,    305,    306,    549,\n",
       "                550,    635,\n",
       "             ...\n",
       "             275010, 275011, 275012, 275016, 275017, 275018, 275019, 275020,\n",
       "             275021, 275023],\n",
       "            dtype='int64', length=5739),\n",
       " 'UD-01': Int64Index([    60,     61,     76,    177,    182,    208,    608,    942,\n",
       "                943,   1054,\n",
       "             ...\n",
       "             274123, 274124, 274158, 274460, 274575, 274700, 274705, 274869,\n",
       "             274881, 275025],\n",
       "            dtype='int64', length=3889),\n",
       " 'UD-02': Int64Index([    92,     97,    183,    193,    204,    240,    241,    543,\n",
       "                654,    655,\n",
       "             ...\n",
       "             274286, 274287, 274369, 274418, 274502, 274815, 274919, 275024,\n",
       "             275086, 275087],\n",
       "            dtype='int64', length=1417),\n",
       " 'UD-04': Int64Index([    96,    161,    184,    188,    260,    372,    499,    611,\n",
       "                678,    891,\n",
       "             ...\n",
       "             274104, 274105, 274160, 274259, 274264, 274283, 274400, 274528,\n",
       "             274659, 274870],\n",
       "            dtype='int64', length=3534),\n",
       " 'UD-07': Int64Index([   115,    116,    281,    469,    669,    696,    738,    904,\n",
       "                963,   1040,\n",
       "             ...\n",
       "             273080, 273086, 273331, 273359, 273545, 273783, 274165, 274175,\n",
       "             274281, 274759],\n",
       "            dtype='int64', length=2429),\n",
       " 'UW-01': Int64Index([   730,   1691,   1759,   2124,   2383,   2746,   3087,   3356,\n",
       "               3404,   3510,\n",
       "             ...\n",
       "             142135, 142136, 142249, 142254, 142259, 143101, 144918, 145571,\n",
       "             147714, 147773],\n",
       "            dtype='int64', length=480),\n",
       " 'UW-02': Int64Index([    72,     73,     74,     80,    421,    857,    964,   1026,\n",
       "               1183,   1433,\n",
       "             ...\n",
       "             274078, 274079, 274088, 274089, 274300, 274301, 274537, 274586,\n",
       "             274998, 275063],\n",
       "            dtype='int64', length=2002),\n",
       " 'UW-04': Int64Index([   187,    343,    375,    463,    477,    580,    673,    762,\n",
       "                781,    833,\n",
       "             ...\n",
       "             274811, 274856, 274858, 274876, 274888, 274996, 275045, 275054,\n",
       "             275069, 275070],\n",
       "            dtype='int64', length=2688),\n",
       " 'UW-06': Int64Index([   167,    272,    385,    631,    774,    951,   1011,   1048,\n",
       "               1078,   1083,\n",
       "             ...\n",
       "             274454, 274499, 274562, 274617, 274742, 274773, 274786, 274802,\n",
       "             274809, 274945],\n",
       "            dtype='int64', length=2383),\n",
       " 'UW-07': Int64Index([   121,    122,    215,    216,    365,    367,    404,    721,\n",
       "               1090,   1141,\n",
       "             ...\n",
       "             273936, 273944, 273961, 274498, 274571, 274576, 274721, 274727,\n",
       "             274947, 275046],\n",
       "            dtype='int64', length=1905),\n",
       " 'UW-10': Int64Index([   105,    124,    128,    314,    619,    896,    934,    935,\n",
       "                999,   1006,\n",
       "             ...\n",
       "             238201, 238453, 238514, 238816, 238854, 239274, 239545, 240295,\n",
       "             240446, 240775],\n",
       "            dtype='int64', length=1175),\n",
       " 'UW-11': Int64Index([150250, 150776, 151044, 151373, 151690, 152037, 152061, 153903,\n",
       "             153941, 154905,\n",
       "             ...\n",
       "             273385, 273607, 273760, 273892, 273904, 274016, 274017, 274018,\n",
       "             274473, 274675],\n",
       "            dtype='int64', length=1237),\n",
       " 'UW-12': Int64Index([241157, 241173, 241175, 241194, 241208, 241245, 241292, 241403,\n",
       "             241435, 241447,\n",
       "             ...\n",
       "             274748, 274794, 274795, 274843, 274859, 274864, 274938, 274940,\n",
       "             274999, 275055],\n",
       "            dtype='int64', length=689),\n",
       " 'WF-01': Int64Index([   133,    135,    297,    298,    300,    302,    307,    369,\n",
       "                475,    514,\n",
       "             ...\n",
       "             274972, 274977, 274989, 275013, 275015, 275028, 275044, 275047,\n",
       "             275078, 275079],\n",
       "            dtype='int64', length=13038),\n",
       " 'WF-03': Int64Index([226781, 226784, 226827, 227100, 227321, 227322, 227569, 227570,\n",
       "             227768, 227769,\n",
       "             ...\n",
       "             274097, 274100, 274306, 274307, 274325, 274383, 274667, 274708,\n",
       "             274909, 274934],\n",
       "            dtype='int64', length=646),\n",
       " 'WF-04': Int64Index([    64,     65,    132,    157,    203,    207,    236,    264,\n",
       "                266,    267,\n",
       "             ...\n",
       "             274382, 274630, 274637, 274697, 274707, 274709, 274880, 274913,\n",
       "             274981, 274986],\n",
       "            dtype='int64', length=6271)}"
      ]
     },
     "execution_count": 64,
     "metadata": {},
     "output_type": "execute_result"
    }
   ],
   "source": [
    "dfgroup = df.groupby(['from_station_id'])\n",
    "dfgroup.groups"
   ]
  },
  {
   "cell_type": "markdown",
   "metadata": {},
   "source": [
    "The simplest version of a groupby looks like this, and you can use almost any aggregation function you wish (mean, median, sum, minimum, maximum, standard deviation, count, etc.)\n",
    "\n",
    "```\n",
    "<data object>.groupby(<grouping values>).<aggregate>()\n",
    "```\n",
    "\n",
    "for example, we can group by gender and find the average of all numerical columns:"
   ]
  },
  {
   "cell_type": "code",
   "execution_count": null,
   "metadata": {},
   "outputs": [],
   "source": []
  },
  {
   "cell_type": "markdown",
   "metadata": {},
   "source": [
    "It's also possible to indes the grouped object like it is a dataframe:"
   ]
  },
  {
   "cell_type": "code",
   "execution_count": null,
   "metadata": {},
   "outputs": [],
   "source": []
  },
  {
   "cell_type": "markdown",
   "metadata": {},
   "source": [
    "You can even group by multiple values: for example we can look at the trip duration by time of day and by gender:"
   ]
  },
  {
   "cell_type": "code",
   "execution_count": null,
   "metadata": {},
   "outputs": [],
   "source": []
  },
  {
   "cell_type": "markdown",
   "metadata": {},
   "source": [
    "The ``unstack()`` operation can help make sense of this type of multiply-grouped data. What this technically does is split a multiple-valued index into an index plus columns:"
   ]
  },
  {
   "cell_type": "code",
   "execution_count": null,
   "metadata": {},
   "outputs": [],
   "source": []
  },
  {
   "cell_type": "markdown",
   "metadata": {},
   "source": [
    "### Visualizing data with ``pandas``\n",
    "\n",
    "Of course, looking at tables of data is not very intuitive.\n",
    "Fortunately Pandas has many useful plotting functions built-in, all of which make use of the ``matplotlib`` library to generate plots.\n",
    "\n",
    "Whenever you do plotting in the IPython notebook, you will want to first run this *magic command* which configures the notebook to work well with plots:"
   ]
  },
  {
   "cell_type": "code",
   "execution_count": 65,
   "metadata": {},
   "outputs": [],
   "source": [
    "%matplotlib inline"
   ]
  },
  {
   "cell_type": "markdown",
   "metadata": {},
   "source": [
    "Now we can simply call the ``plot()`` method of any series or dataframe to get a reasonable view of the data:"
   ]
  },
  {
   "cell_type": "code",
   "execution_count": 66,
   "metadata": {},
   "outputs": [
    {
     "data": {
      "text/plain": [
       "<matplotlib.axes._subplots.AxesSubplot at 0x7f6c5496b3c8>"
      ]
     },
     "execution_count": 66,
     "metadata": {},
     "output_type": "execute_result"
    },
    {
     "data": {
      "image/png": "[encoded data removed]",
      "text/plain": [
       "<Figure size 432x288 with 1 Axes>"
      ]
     },
     "metadata": {},
     "output_type": "display_data"
    }
   ],
   "source": [
    "import matplotlib.pyplot as plt\n",
    "df['tripduration'].hist()"
   ]
  },
  {
   "cell_type": "markdown",
   "metadata": {},
   "source": [
    "### Adjusting the Plot Style\n",
    "\n",
    "Matplotlib has a number of plot styles you can use. For example, if you like R you might use the ggplot style:"
   ]
  },
  {
   "cell_type": "code",
   "execution_count": null,
   "metadata": {},
   "outputs": [],
   "source": []
  },
  {
   "cell_type": "markdown",
   "metadata": {},
   "source": [
    "### Other plot types\n",
    "\n",
    "Pandas supports a range of other plotting types; you can find these by using the <TAB> autocomplete on the ``plot`` method:"
   ]
  },
  {
   "cell_type": "code",
   "execution_count": null,
   "metadata": {},
   "outputs": [],
   "source": []
  },
  {
   "cell_type": "markdown",
   "metadata": {},
   "source": [
    "For example, we can create a histogram of trip durations:"
   ]
  },
  {
   "cell_type": "code",
   "execution_count": null,
   "metadata": {},
   "outputs": [],
   "source": []
  },
  {
   "cell_type": "markdown",
   "metadata": {},
   "source": [
    "If you'd like to adjust the x and y limits of the plot, you can use the ``set_xlim()`` and ``set_ylim()`` method of the resulting object:"
   ]
  },
  {
   "cell_type": "code",
   "execution_count": null,
   "metadata": {},
   "outputs": [],
   "source": [
    "\n"
   ]
  },
  {
   "cell_type": "markdown",
   "metadata": {},
   "source": [
    "## Breakout: Exploring the Data\n",
    "\n",
    "Make a plot of the total number of rides as a function of month of the year (You'll need to extract the month, use a ``groupby``, and find the appropriate aggregation to count the number in each group)."
   ]
  },
  {
   "cell_type": "code",
   "execution_count": null,
   "metadata": {},
   "outputs": [],
   "source": []
  },
  {
   "cell_type": "markdown",
   "metadata": {},
   "source": [
    "Split this plot by gender. Do you see any seasonal ridership patterns by gender?"
   ]
  },
  {
   "cell_type": "code",
   "execution_count": null,
   "metadata": {},
   "outputs": [],
   "source": []
  },
  {
   "cell_type": "markdown",
   "metadata": {},
   "source": [
    "Split this plot by user type. Do you see any seasonal ridership patterns by usertype?"
   ]
  },
  {
   "cell_type": "code",
   "execution_count": null,
   "metadata": {},
   "outputs": [],
   "source": []
  },
  {
   "cell_type": "markdown",
   "metadata": {},
   "source": [
    "Repeat the above three steps, counting the number of rides by time of day rather thatn by month."
   ]
  },
  {
   "cell_type": "code",
   "execution_count": null,
   "metadata": {},
   "outputs": [],
   "source": []
  },
  {
   "cell_type": "markdown",
   "metadata": {},
   "source": [
    "Are there any other interesting insights you can discover in the data using these tools?"
   ]
  },
  {
   "cell_type": "code",
   "execution_count": null,
   "metadata": {},
   "outputs": [],
   "source": []
  },
  {
   "cell_type": "markdown",
   "metadata": {},
   "source": [
    "### Using Files\n",
    "- Writing and running python modules\n",
    "- Using python modules in your Jupyter Notebook"
   ]
  },
  {
   "cell_type": "code",
   "execution_count": 67,
   "metadata": {},
   "outputs": [],
   "source": [
    "# A script for creating a dataframe with counts of the occurrence of a columns' values\n",
    "df_count = df.groupby('from_station_id').count()\n",
    "df_count1 = df_count[['trip_id']]\n",
    "df_count2 = df_count1.rename(columns={'trip_id': 'count'})"
   ]
  },
  {
   "cell_type": "code",
   "execution_count": 68,
   "metadata": {},
   "outputs": [
    {
     "data": {
      "text/html": [
       "<div>\n",
       "<style scoped>\n",
       "    .dataframe tbody tr th:only-of-type {\n",
       "        vertical-align: middle;\n",
       "    }\n",
       "\n",
       "    .dataframe tbody tr th {\n",
       "        vertical-align: top;\n",
       "    }\n",
       "\n",
       "    .dataframe thead th {\n",
       "        text-align: right;\n",
       "    }\n",
       "</style>\n",
       "<table border=\"1\" class=\"dataframe\">\n",
       "  <thead>\n",
       "    <tr style=\"text-align: right;\">\n",
       "      <th></th>\n",
       "      <th>count</th>\n",
       "    </tr>\n",
       "    <tr>\n",
       "      <th>from_station_id</th>\n",
       "      <th></th>\n",
       "    </tr>\n",
       "  </thead>\n",
       "  <tbody>\n",
       "    <tr>\n",
       "      <th>BT-01</th>\n",
       "      <td>10463</td>\n",
       "    </tr>\n",
       "    <tr>\n",
       "      <th>BT-03</th>\n",
       "      <td>7334</td>\n",
       "    </tr>\n",
       "    <tr>\n",
       "      <th>BT-04</th>\n",
       "      <td>4666</td>\n",
       "    </tr>\n",
       "    <tr>\n",
       "      <th>BT-05</th>\n",
       "      <td>5699</td>\n",
       "    </tr>\n",
       "    <tr>\n",
       "      <th>BT-06</th>\n",
       "      <td>150</td>\n",
       "    </tr>\n",
       "  </tbody>\n",
       "</table>\n",
       "</div>"
      ],
      "text/plain": [
       "                 count\n",
       "from_station_id       \n",
       "BT-01            10463\n",
       "BT-03             7334\n",
       "BT-04             4666\n",
       "BT-05             5699\n",
       "BT-06              150"
      ]
     },
     "execution_count": 68,
     "metadata": {},
     "output_type": "execute_result"
    }
   ],
   "source": [
    "df_count2.head()"
   ]
  },
  {
   "cell_type": "code",
   "execution_count": 69,
   "metadata": {},
   "outputs": [],
   "source": [
    "def make_table_count(df_arg, groupby_column):\n",
    "    df_count = df_arg.groupby(groupby_column).count()\n",
    "    column_name = df.columns[0]\n",
    "    df_count1 = df_count[[column_name]]\n",
    "    df_count2 = df_count1.rename(columns={column_name: 'count'})\n",
    "    return df_count2"
   ]
  },
  {
   "cell_type": "code",
   "execution_count": 70,
   "metadata": {},
   "outputs": [
    {
     "data": {
      "text/html": [
       "<div>\n",
       "<style scoped>\n",
       "    .dataframe tbody tr th:only-of-type {\n",
       "        vertical-align: middle;\n",
       "    }\n",
       "\n",
       "    .dataframe tbody tr th {\n",
       "        vertical-align: top;\n",
       "    }\n",
       "\n",
       "    .dataframe thead th {\n",
       "        text-align: right;\n",
       "    }\n",
       "</style>\n",
       "<table border=\"1\" class=\"dataframe\">\n",
       "  <thead>\n",
       "    <tr style=\"text-align: right;\">\n",
       "      <th></th>\n",
       "      <th>count</th>\n",
       "    </tr>\n",
       "    <tr>\n",
       "      <th>from_station_id</th>\n",
       "      <th></th>\n",
       "    </tr>\n",
       "  </thead>\n",
       "  <tbody>\n",
       "    <tr>\n",
       "      <th>BT-01</th>\n",
       "      <td>10463</td>\n",
       "    </tr>\n",
       "    <tr>\n",
       "      <th>BT-03</th>\n",
       "      <td>7334</td>\n",
       "    </tr>\n",
       "    <tr>\n",
       "      <th>BT-04</th>\n",
       "      <td>4666</td>\n",
       "    </tr>\n",
       "    <tr>\n",
       "      <th>BT-05</th>\n",
       "      <td>5699</td>\n",
       "    </tr>\n",
       "    <tr>\n",
       "      <th>BT-06</th>\n",
       "      <td>150</td>\n",
       "    </tr>\n",
       "  </tbody>\n",
       "</table>\n",
       "</div>"
      ],
      "text/plain": [
       "                 count\n",
       "from_station_id       \n",
       "BT-01            10463\n",
       "BT-03             7334\n",
       "BT-04             4666\n",
       "BT-05             5699\n",
       "BT-06              150"
      ]
     },
     "execution_count": 70,
     "metadata": {},
     "output_type": "execute_result"
    }
   ],
   "source": [
    "dff = make_table_count(df, 'from_station_id')\n",
    "dff.head()"
   ]
  }
 ],
 "metadata": {
  "anaconda-cloud": {},
  "kernelspec": {
   "display_name": "Python 3",
   "language": "python",
   "name": "python3"
  },
  "language_info": {
   "codemirror_mode": {
    "name": "ipython",
    "version": 3
   },
   "file_extension": ".py",
   "mimetype": "text/x-python",
   "name": "python",
   "nbconvert_exporter": "python",
   "pygments_lexer": "ipython3",
   "version": "3.6.7"
  }
 },
 "nbformat": 4,
 "nbformat_minor": 1
}
